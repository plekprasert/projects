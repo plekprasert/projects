{
 "cells": [
  {
   "cell_type": "code",
   "execution_count": 1,
   "metadata": {},
   "outputs": [],
   "source": [
    "# Import libraries\n",
    "import pandas as pd\n",
    "import numpy as np\n",
    "import seaborn as sns\n",
    "import matplotlib.pyplot as plt\n",
    "from scipy import stats\n",
    "from math import pow\n",
    "from datetime import datetime\n",
    "from sklearn.metrics import mean_squared_error\n",
    "from math import sqrt\n",
    "\n",
    "%matplotlib inline"
   ]
  },
  {
   "cell_type": "code",
   "execution_count": 2,
   "metadata": {},
   "outputs": [
    {
     "name": "stdout",
     "output_type": "stream",
     "text": [
      "Requirement already satisfied: xgboost in c:\\users\\parawee\\anaconda3\\lib\\site-packages (1.0.1)\n",
      "Requirement already satisfied: scipy in c:\\users\\parawee\\anaconda3\\lib\\site-packages (from xgboost) (1.3.1)\n",
      "Requirement already satisfied: numpy in c:\\users\\parawee\\anaconda3\\lib\\site-packages (from xgboost) (1.16.5)\n",
      "Note: you may need to restart the kernel to use updated packages.\n"
     ]
    }
   ],
   "source": [
    "pip install xgboost\n"
   ]
  },
  {
   "cell_type": "code",
   "execution_count": 3,
   "metadata": {},
   "outputs": [],
   "source": [
    "import xgboost as xgb\n",
    "from sklearn.metrics import mean_squared_error\n"
   ]
  },
  {
   "cell_type": "code",
   "execution_count": 4,
   "metadata": {},
   "outputs": [],
   "source": [
    "####################### read in sales record file (training set) ################################\n",
    "# first, function to parse date string to datetime\n",
    "parser_todate1 = lambda date: pd.to_datetime(date, format = '%d.%m.%Y')\n",
    "\n",
    "df_sales = pd.read_csv('data/sales_train.csv', parse_dates=['date'], date_parser=parser_todate1)"
   ]
  },
  {
   "cell_type": "code",
   "execution_count": 5,
   "metadata": {},
   "outputs": [
    {
     "name": "stdout",
     "output_type": "stream",
     "text": [
      "(2935849, 6)\n"
     ]
    },
    {
     "data": {
      "text/html": [
       "<div>\n",
       "<style scoped>\n",
       "    .dataframe tbody tr th:only-of-type {\n",
       "        vertical-align: middle;\n",
       "    }\n",
       "\n",
       "    .dataframe tbody tr th {\n",
       "        vertical-align: top;\n",
       "    }\n",
       "\n",
       "    .dataframe thead th {\n",
       "        text-align: right;\n",
       "    }\n",
       "</style>\n",
       "<table border=\"1\" class=\"dataframe\">\n",
       "  <thead>\n",
       "    <tr style=\"text-align: right;\">\n",
       "      <th></th>\n",
       "      <th>date</th>\n",
       "      <th>date_block_num</th>\n",
       "      <th>shop_id</th>\n",
       "      <th>item_id</th>\n",
       "      <th>item_price</th>\n",
       "      <th>item_cnt_day</th>\n",
       "    </tr>\n",
       "  </thead>\n",
       "  <tbody>\n",
       "    <tr>\n",
       "      <td>0</td>\n",
       "      <td>2013-01-02</td>\n",
       "      <td>0</td>\n",
       "      <td>59</td>\n",
       "      <td>22154</td>\n",
       "      <td>999.00</td>\n",
       "      <td>1.0</td>\n",
       "    </tr>\n",
       "    <tr>\n",
       "      <td>1</td>\n",
       "      <td>2013-01-03</td>\n",
       "      <td>0</td>\n",
       "      <td>25</td>\n",
       "      <td>2552</td>\n",
       "      <td>899.00</td>\n",
       "      <td>1.0</td>\n",
       "    </tr>\n",
       "    <tr>\n",
       "      <td>2</td>\n",
       "      <td>2013-01-05</td>\n",
       "      <td>0</td>\n",
       "      <td>25</td>\n",
       "      <td>2552</td>\n",
       "      <td>899.00</td>\n",
       "      <td>-1.0</td>\n",
       "    </tr>\n",
       "    <tr>\n",
       "      <td>3</td>\n",
       "      <td>2013-01-06</td>\n",
       "      <td>0</td>\n",
       "      <td>25</td>\n",
       "      <td>2554</td>\n",
       "      <td>1709.05</td>\n",
       "      <td>1.0</td>\n",
       "    </tr>\n",
       "    <tr>\n",
       "      <td>4</td>\n",
       "      <td>2013-01-15</td>\n",
       "      <td>0</td>\n",
       "      <td>25</td>\n",
       "      <td>2555</td>\n",
       "      <td>1099.00</td>\n",
       "      <td>1.0</td>\n",
       "    </tr>\n",
       "    <tr>\n",
       "      <td>5</td>\n",
       "      <td>2013-01-10</td>\n",
       "      <td>0</td>\n",
       "      <td>25</td>\n",
       "      <td>2564</td>\n",
       "      <td>349.00</td>\n",
       "      <td>1.0</td>\n",
       "    </tr>\n",
       "    <tr>\n",
       "      <td>6</td>\n",
       "      <td>2013-01-02</td>\n",
       "      <td>0</td>\n",
       "      <td>25</td>\n",
       "      <td>2565</td>\n",
       "      <td>549.00</td>\n",
       "      <td>1.0</td>\n",
       "    </tr>\n",
       "    <tr>\n",
       "      <td>7</td>\n",
       "      <td>2013-01-04</td>\n",
       "      <td>0</td>\n",
       "      <td>25</td>\n",
       "      <td>2572</td>\n",
       "      <td>239.00</td>\n",
       "      <td>1.0</td>\n",
       "    </tr>\n",
       "    <tr>\n",
       "      <td>8</td>\n",
       "      <td>2013-01-11</td>\n",
       "      <td>0</td>\n",
       "      <td>25</td>\n",
       "      <td>2572</td>\n",
       "      <td>299.00</td>\n",
       "      <td>1.0</td>\n",
       "    </tr>\n",
       "    <tr>\n",
       "      <td>9</td>\n",
       "      <td>2013-01-03</td>\n",
       "      <td>0</td>\n",
       "      <td>25</td>\n",
       "      <td>2573</td>\n",
       "      <td>299.00</td>\n",
       "      <td>3.0</td>\n",
       "    </tr>\n",
       "  </tbody>\n",
       "</table>\n",
       "</div>"
      ],
      "text/plain": [
       "        date  date_block_num  shop_id  item_id  item_price  item_cnt_day\n",
       "0 2013-01-02               0       59    22154      999.00           1.0\n",
       "1 2013-01-03               0       25     2552      899.00           1.0\n",
       "2 2013-01-05               0       25     2552      899.00          -1.0\n",
       "3 2013-01-06               0       25     2554     1709.05           1.0\n",
       "4 2013-01-15               0       25     2555     1099.00           1.0\n",
       "5 2013-01-10               0       25     2564      349.00           1.0\n",
       "6 2013-01-02               0       25     2565      549.00           1.0\n",
       "7 2013-01-04               0       25     2572      239.00           1.0\n",
       "8 2013-01-11               0       25     2572      299.00           1.0\n",
       "9 2013-01-03               0       25     2573      299.00           3.0"
      ]
     },
     "execution_count": 5,
     "metadata": {},
     "output_type": "execute_result"
    }
   ],
   "source": [
    "#look at sales data\n",
    "print (df_sales.shape)\n",
    "df_sales.head (10)"
   ]
  },
  {
   "cell_type": "code",
   "execution_count": 6,
   "metadata": {},
   "outputs": [
    {
     "data": {
      "text/html": [
       "<div>\n",
       "<style scoped>\n",
       "    .dataframe tbody tr th:only-of-type {\n",
       "        vertical-align: middle;\n",
       "    }\n",
       "\n",
       "    .dataframe tbody tr th {\n",
       "        vertical-align: top;\n",
       "    }\n",
       "\n",
       "    .dataframe thead th {\n",
       "        text-align: right;\n",
       "    }\n",
       "</style>\n",
       "<table border=\"1\" class=\"dataframe\">\n",
       "  <thead>\n",
       "    <tr style=\"text-align: right;\">\n",
       "      <th></th>\n",
       "      <th>date_block_num</th>\n",
       "      <th>shop_id</th>\n",
       "      <th>item_id</th>\n",
       "      <th>item_price</th>\n",
       "      <th>item_cnt_day</th>\n",
       "    </tr>\n",
       "  </thead>\n",
       "  <tbody>\n",
       "    <tr>\n",
       "      <td>count</td>\n",
       "      <td>2.935849e+06</td>\n",
       "      <td>2.935849e+06</td>\n",
       "      <td>2.935849e+06</td>\n",
       "      <td>2.935849e+06</td>\n",
       "      <td>2.935849e+06</td>\n",
       "    </tr>\n",
       "    <tr>\n",
       "      <td>mean</td>\n",
       "      <td>1.456991e+01</td>\n",
       "      <td>3.300173e+01</td>\n",
       "      <td>1.019723e+04</td>\n",
       "      <td>8.908532e+02</td>\n",
       "      <td>1.242641e+00</td>\n",
       "    </tr>\n",
       "    <tr>\n",
       "      <td>std</td>\n",
       "      <td>9.422988e+00</td>\n",
       "      <td>1.622697e+01</td>\n",
       "      <td>6.324297e+03</td>\n",
       "      <td>1.729800e+03</td>\n",
       "      <td>2.618834e+00</td>\n",
       "    </tr>\n",
       "    <tr>\n",
       "      <td>min</td>\n",
       "      <td>0.000000e+00</td>\n",
       "      <td>0.000000e+00</td>\n",
       "      <td>0.000000e+00</td>\n",
       "      <td>-1.000000e+00</td>\n",
       "      <td>-2.200000e+01</td>\n",
       "    </tr>\n",
       "    <tr>\n",
       "      <td>25%</td>\n",
       "      <td>7.000000e+00</td>\n",
       "      <td>2.200000e+01</td>\n",
       "      <td>4.476000e+03</td>\n",
       "      <td>2.490000e+02</td>\n",
       "      <td>1.000000e+00</td>\n",
       "    </tr>\n",
       "    <tr>\n",
       "      <td>50%</td>\n",
       "      <td>1.400000e+01</td>\n",
       "      <td>3.100000e+01</td>\n",
       "      <td>9.343000e+03</td>\n",
       "      <td>3.990000e+02</td>\n",
       "      <td>1.000000e+00</td>\n",
       "    </tr>\n",
       "    <tr>\n",
       "      <td>75%</td>\n",
       "      <td>2.300000e+01</td>\n",
       "      <td>4.700000e+01</td>\n",
       "      <td>1.568400e+04</td>\n",
       "      <td>9.990000e+02</td>\n",
       "      <td>1.000000e+00</td>\n",
       "    </tr>\n",
       "    <tr>\n",
       "      <td>max</td>\n",
       "      <td>3.300000e+01</td>\n",
       "      <td>5.900000e+01</td>\n",
       "      <td>2.216900e+04</td>\n",
       "      <td>3.079800e+05</td>\n",
       "      <td>2.169000e+03</td>\n",
       "    </tr>\n",
       "  </tbody>\n",
       "</table>\n",
       "</div>"
      ],
      "text/plain": [
       "       date_block_num       shop_id       item_id    item_price  item_cnt_day\n",
       "count    2.935849e+06  2.935849e+06  2.935849e+06  2.935849e+06  2.935849e+06\n",
       "mean     1.456991e+01  3.300173e+01  1.019723e+04  8.908532e+02  1.242641e+00\n",
       "std      9.422988e+00  1.622697e+01  6.324297e+03  1.729800e+03  2.618834e+00\n",
       "min      0.000000e+00  0.000000e+00  0.000000e+00 -1.000000e+00 -2.200000e+01\n",
       "25%      7.000000e+00  2.200000e+01  4.476000e+03  2.490000e+02  1.000000e+00\n",
       "50%      1.400000e+01  3.100000e+01  9.343000e+03  3.990000e+02  1.000000e+00\n",
       "75%      2.300000e+01  4.700000e+01  1.568400e+04  9.990000e+02  1.000000e+00\n",
       "max      3.300000e+01  5.900000e+01  2.216900e+04  3.079800e+05  2.169000e+03"
      ]
     },
     "execution_count": 6,
     "metadata": {},
     "output_type": "execute_result"
    }
   ],
   "source": [
    "df_sales.describe()"
   ]
  },
  {
   "cell_type": "code",
   "execution_count": 7,
   "metadata": {
    "scrolled": true
   },
   "outputs": [
    {
     "data": {
      "text/plain": [
       "date              datetime64[ns]\n",
       "date_block_num             int64\n",
       "shop_id                    int64\n",
       "item_id                    int64\n",
       "item_price               float64\n",
       "item_cnt_day             float64\n",
       "dtype: object"
      ]
     },
     "execution_count": 7,
     "metadata": {},
     "output_type": "execute_result"
    }
   ],
   "source": [
    "df_sales.dtypes"
   ]
  },
  {
   "cell_type": "code",
   "execution_count": 8,
   "metadata": {},
   "outputs": [
    {
     "data": {
      "text/plain": [
       "item_cnt_day      0\n",
       "item_price        0\n",
       "item_id           0\n",
       "shop_id           0\n",
       "date_block_num    0\n",
       "date              0\n",
       "dtype: int64"
      ]
     },
     "execution_count": 8,
     "metadata": {},
     "output_type": "execute_result"
    }
   ],
   "source": [
    "#check for null\n",
    "df_sales.isnull().sum().sort_values(ascending=False)"
   ]
  },
  {
   "cell_type": "code",
   "execution_count": 9,
   "metadata": {},
   "outputs": [
    {
     "name": "stdout",
     "output_type": "stream",
     "text": [
      "(22170, 3)\n"
     ]
    },
    {
     "data": {
      "text/html": [
       "<div>\n",
       "<style scoped>\n",
       "    .dataframe tbody tr th:only-of-type {\n",
       "        vertical-align: middle;\n",
       "    }\n",
       "\n",
       "    .dataframe tbody tr th {\n",
       "        vertical-align: top;\n",
       "    }\n",
       "\n",
       "    .dataframe thead th {\n",
       "        text-align: right;\n",
       "    }\n",
       "</style>\n",
       "<table border=\"1\" class=\"dataframe\">\n",
       "  <thead>\n",
       "    <tr style=\"text-align: right;\">\n",
       "      <th></th>\n",
       "      <th>item_name</th>\n",
       "      <th>item_id</th>\n",
       "      <th>item_category_id</th>\n",
       "    </tr>\n",
       "  </thead>\n",
       "  <tbody>\n",
       "    <tr>\n",
       "      <td>0</td>\n",
       "      <td>! ВО ВЛАСТИ НАВАЖДЕНИЯ (ПЛАСТ.)         D</td>\n",
       "      <td>0</td>\n",
       "      <td>40</td>\n",
       "    </tr>\n",
       "    <tr>\n",
       "      <td>1</td>\n",
       "      <td>!ABBYY FineReader 12 Professional Edition Full...</td>\n",
       "      <td>1</td>\n",
       "      <td>76</td>\n",
       "    </tr>\n",
       "    <tr>\n",
       "      <td>2</td>\n",
       "      <td>***В ЛУЧАХ СЛАВЫ   (UNV)                    D</td>\n",
       "      <td>2</td>\n",
       "      <td>40</td>\n",
       "    </tr>\n",
       "    <tr>\n",
       "      <td>3</td>\n",
       "      <td>***ГОЛУБАЯ ВОЛНА  (Univ)                      D</td>\n",
       "      <td>3</td>\n",
       "      <td>40</td>\n",
       "    </tr>\n",
       "    <tr>\n",
       "      <td>4</td>\n",
       "      <td>***КОРОБКА (СТЕКЛО)                       D</td>\n",
       "      <td>4</td>\n",
       "      <td>40</td>\n",
       "    </tr>\n",
       "  </tbody>\n",
       "</table>\n",
       "</div>"
      ],
      "text/plain": [
       "                                           item_name  item_id  \\\n",
       "0          ! ВО ВЛАСТИ НАВАЖДЕНИЯ (ПЛАСТ.)         D        0   \n",
       "1  !ABBYY FineReader 12 Professional Edition Full...        1   \n",
       "2      ***В ЛУЧАХ СЛАВЫ   (UNV)                    D        2   \n",
       "3    ***ГОЛУБАЯ ВОЛНА  (Univ)                      D        3   \n",
       "4        ***КОРОБКА (СТЕКЛО)                       D        4   \n",
       "\n",
       "   item_category_id  \n",
       "0                40  \n",
       "1                76  \n",
       "2                40  \n",
       "3                40  \n",
       "4                40  "
      ]
     },
     "execution_count": 9,
     "metadata": {},
     "output_type": "execute_result"
    }
   ],
   "source": [
    "##########################read in other data file and join with df_sales #####################\n",
    "    \n",
    "    # 1.items.csv to get item_category_id; \n",
    "\n",
    "df_iteminfo = pd.read_csv('data/items.csv')\n",
    "print (df_iteminfo.shape)\n",
    "df_iteminfo.head()"
   ]
  },
  {
   "cell_type": "code",
   "execution_count": 10,
   "metadata": {},
   "outputs": [
    {
     "name": "stdout",
     "output_type": "stream",
     "text": [
      "(22170, 4)\n"
     ]
    },
    {
     "data": {
      "text/html": [
       "<div>\n",
       "<style scoped>\n",
       "    .dataframe tbody tr th:only-of-type {\n",
       "        vertical-align: middle;\n",
       "    }\n",
       "\n",
       "    .dataframe tbody tr th {\n",
       "        vertical-align: top;\n",
       "    }\n",
       "\n",
       "    .dataframe thead th {\n",
       "        text-align: right;\n",
       "    }\n",
       "</style>\n",
       "<table border=\"1\" class=\"dataframe\">\n",
       "  <thead>\n",
       "    <tr style=\"text-align: right;\">\n",
       "      <th></th>\n",
       "      <th>item_id</th>\n",
       "      <th>item_name_translated</th>\n",
       "      <th>item_cat1</th>\n",
       "      <th>item_cat2</th>\n",
       "    </tr>\n",
       "  </thead>\n",
       "  <tbody>\n",
       "    <tr>\n",
       "      <td>0</td>\n",
       "      <td>5441</td>\n",
       "      <td>PC: Headset HyperX Cloud Core gaming stereo (K...</td>\n",
       "      <td>PC</td>\n",
       "      <td>Headsets / Headphones</td>\n",
       "    </tr>\n",
       "    <tr>\n",
       "      <td>1</td>\n",
       "      <td>16255</td>\n",
       "      <td>Headphones PHILIPS SBC HC8680</td>\n",
       "      <td>PC</td>\n",
       "      <td>Headsets / Headphones</td>\n",
       "    </tr>\n",
       "    <tr>\n",
       "      <td>2</td>\n",
       "      <td>16256</td>\n",
       "      <td>Headphones RITMIX RH-120</td>\n",
       "      <td>PC</td>\n",
       "      <td>Headsets / Headphones</td>\n",
       "    </tr>\n",
       "    <tr>\n",
       "      <td>3</td>\n",
       "      <td>16257</td>\n",
       "      <td>Headphones RITMIX RH-124 Black</td>\n",
       "      <td>PC</td>\n",
       "      <td>Headsets / Headphones</td>\n",
       "    </tr>\n",
       "    <tr>\n",
       "      <td>4</td>\n",
       "      <td>5606</td>\n",
       "      <td>PS2: Memory Card 8 MB Black (Memory Card 8Mb -...</td>\n",
       "      <td>Accessories</td>\n",
       "      <td>PS2</td>\n",
       "    </tr>\n",
       "  </tbody>\n",
       "</table>\n",
       "</div>"
      ],
      "text/plain": [
       "   item_id                               item_name_translated    item_cat1  \\\n",
       "0     5441  PC: Headset HyperX Cloud Core gaming stereo (K...           PC   \n",
       "1    16255                      Headphones PHILIPS SBC HC8680           PC   \n",
       "2    16256                           Headphones RITMIX RH-120           PC   \n",
       "3    16257                     Headphones RITMIX RH-124 Black           PC   \n",
       "4     5606  PS2: Memory Card 8 MB Black (Memory Card 8Mb -...  Accessories   \n",
       "\n",
       "               item_cat2  \n",
       "0  Headsets / Headphones  \n",
       "1  Headsets / Headphones  \n",
       "2  Headsets / Headphones  \n",
       "3  Headsets / Headphones  \n",
       "4                    PS2  "
      ]
     },
     "execution_count": 10,
     "metadata": {},
     "output_type": "execute_result"
    }
   ],
   "source": [
    "#read in other data file to join with df_sales \n",
    "    \n",
    "    # 2.sup/item_category.csv to get translated item names and category names (original is in Russian; source: deargle and Kâzım Anıl Eren) )\n",
    "\n",
    "df_itemtln = pd.read_csv('data/sup/item_category.csv')\n",
    "print (df_itemtln.shape)\n",
    "df_itemtln.head()"
   ]
  },
  {
   "cell_type": "code",
   "execution_count": 11,
   "metadata": {},
   "outputs": [
    {
     "data": {
      "text/html": [
       "<div>\n",
       "<style scoped>\n",
       "    .dataframe tbody tr th:only-of-type {\n",
       "        vertical-align: middle;\n",
       "    }\n",
       "\n",
       "    .dataframe tbody tr th {\n",
       "        vertical-align: top;\n",
       "    }\n",
       "\n",
       "    .dataframe thead th {\n",
       "        text-align: right;\n",
       "    }\n",
       "</style>\n",
       "<table border=\"1\" class=\"dataframe\">\n",
       "  <thead>\n",
       "    <tr style=\"text-align: right;\">\n",
       "      <th></th>\n",
       "      <th>item_id</th>\n",
       "      <th>item_name_translated</th>\n",
       "      <th>item_cat1</th>\n",
       "      <th>item_cat2</th>\n",
       "      <th>item_category_id</th>\n",
       "    </tr>\n",
       "  </thead>\n",
       "  <tbody>\n",
       "    <tr>\n",
       "      <td>0</td>\n",
       "      <td>5441</td>\n",
       "      <td>PC: Headset HyperX Cloud Core gaming stereo (K...</td>\n",
       "      <td>PC</td>\n",
       "      <td>Headsets / Headphones</td>\n",
       "      <td>0</td>\n",
       "    </tr>\n",
       "    <tr>\n",
       "      <td>1</td>\n",
       "      <td>16255</td>\n",
       "      <td>Headphones PHILIPS SBC HC8680</td>\n",
       "      <td>PC</td>\n",
       "      <td>Headsets / Headphones</td>\n",
       "      <td>0</td>\n",
       "    </tr>\n",
       "    <tr>\n",
       "      <td>2</td>\n",
       "      <td>16256</td>\n",
       "      <td>Headphones RITMIX RH-120</td>\n",
       "      <td>PC</td>\n",
       "      <td>Headsets / Headphones</td>\n",
       "      <td>0</td>\n",
       "    </tr>\n",
       "    <tr>\n",
       "      <td>3</td>\n",
       "      <td>16257</td>\n",
       "      <td>Headphones RITMIX RH-124 Black</td>\n",
       "      <td>PC</td>\n",
       "      <td>Headsets / Headphones</td>\n",
       "      <td>0</td>\n",
       "    </tr>\n",
       "    <tr>\n",
       "      <td>4</td>\n",
       "      <td>5606</td>\n",
       "      <td>PS2: Memory Card 8 MB Black (Memory Card 8Mb -...</td>\n",
       "      <td>Accessories</td>\n",
       "      <td>PS2</td>\n",
       "      <td>1</td>\n",
       "    </tr>\n",
       "  </tbody>\n",
       "</table>\n",
       "</div>"
      ],
      "text/plain": [
       "   item_id                               item_name_translated    item_cat1  \\\n",
       "0     5441  PC: Headset HyperX Cloud Core gaming stereo (K...           PC   \n",
       "1    16255                      Headphones PHILIPS SBC HC8680           PC   \n",
       "2    16256                           Headphones RITMIX RH-120           PC   \n",
       "3    16257                     Headphones RITMIX RH-124 Black           PC   \n",
       "4     5606  PS2: Memory Card 8 MB Black (Memory Card 8Mb -...  Accessories   \n",
       "\n",
       "               item_cat2  item_category_id  \n",
       "0  Headsets / Headphones                 0  \n",
       "1  Headsets / Headphones                 0  \n",
       "2  Headsets / Headphones                 0  \n",
       "3  Headsets / Headphones                 0  \n",
       "4                    PS2                 1  "
      ]
     },
     "execution_count": 11,
     "metadata": {},
     "output_type": "execute_result"
    }
   ],
   "source": [
    "#left join df_itemtln and df_iteminfo to get item_category_id from df_iteminfo (before joining to the main df_sales)\n",
    "df_itemtln = pd.merge(df_itemtln, df_iteminfo[['item_id','item_category_id']], how = 'left', left_on = 'item_id', right_on = 'item_id')\n",
    "df_itemtln.head()\n",
    "  "
   ]
  },
  {
   "cell_type": "code",
   "execution_count": 12,
   "metadata": {},
   "outputs": [
    {
     "data": {
      "text/plain": [
       "item_cat2               58\n",
       "item_category_id         0\n",
       "item_cat1                0\n",
       "item_name_translated     0\n",
       "item_id                  0\n",
       "dtype: int64"
      ]
     },
     "execution_count": 12,
     "metadata": {},
     "output_type": "execute_result"
    }
   ],
   "source": [
    "#check if translated item and category info have nulls\n",
    "df_itemtln.isnull().sum().sort_values(ascending=False)   "
   ]
  },
  {
   "cell_type": "code",
   "execution_count": 13,
   "metadata": {},
   "outputs": [
    {
     "data": {
      "text/plain": [
       "item_cat2               30403\n",
       "item_category_id            0\n",
       "item_cat1                   0\n",
       "item_name_translated        0\n",
       "item_cnt_day                0\n",
       "item_price                  0\n",
       "item_id                     0\n",
       "shop_id                     0\n",
       "date_block_num              0\n",
       "date                        0\n",
       "dtype: int64"
      ]
     },
     "execution_count": 13,
     "metadata": {},
     "output_type": "execute_result"
    }
   ],
   "source": [
    "#left join df_sales and df_itemtln to add item and category name/id to the main sales records\n",
    "df_sales = pd.merge(df_sales, df_itemtln, how ='left', left_on = 'item_id', right_on = 'item_id')\n",
    "df_sales.isnull().sum().sort_values(ascending=False)  "
   ]
  },
  {
   "cell_type": "code",
   "execution_count": 14,
   "metadata": {},
   "outputs": [
    {
     "name": "stdout",
     "output_type": "stream",
     "text": [
      "(2935849, 10)\n"
     ]
    }
   ],
   "source": [
    "print(df_sales.shape)"
   ]
  },
  {
   "cell_type": "code",
   "execution_count": 14,
   "metadata": {},
   "outputs": [
    {
     "data": {
      "text/html": [
       "<div>\n",
       "<style scoped>\n",
       "    .dataframe tbody tr th:only-of-type {\n",
       "        vertical-align: middle;\n",
       "    }\n",
       "\n",
       "    .dataframe tbody tr th {\n",
       "        vertical-align: top;\n",
       "    }\n",
       "\n",
       "    .dataframe thead th {\n",
       "        text-align: right;\n",
       "    }\n",
       "</style>\n",
       "<table border=\"1\" class=\"dataframe\">\n",
       "  <thead>\n",
       "    <tr style=\"text-align: right;\">\n",
       "      <th></th>\n",
       "      <th>date</th>\n",
       "      <th>holiday</th>\n",
       "      <th>weekend</th>\n",
       "    </tr>\n",
       "  </thead>\n",
       "  <tbody>\n",
       "    <tr>\n",
       "      <td>0</td>\n",
       "      <td>2013-01-01</td>\n",
       "      <td>1</td>\n",
       "      <td>0</td>\n",
       "    </tr>\n",
       "    <tr>\n",
       "      <td>1</td>\n",
       "      <td>2013-01-02</td>\n",
       "      <td>1</td>\n",
       "      <td>0</td>\n",
       "    </tr>\n",
       "    <tr>\n",
       "      <td>2</td>\n",
       "      <td>2013-01-03</td>\n",
       "      <td>1</td>\n",
       "      <td>0</td>\n",
       "    </tr>\n",
       "    <tr>\n",
       "      <td>3</td>\n",
       "      <td>2013-01-04</td>\n",
       "      <td>1</td>\n",
       "      <td>0</td>\n",
       "    </tr>\n",
       "    <tr>\n",
       "      <td>4</td>\n",
       "      <td>2013-01-05</td>\n",
       "      <td>0</td>\n",
       "      <td>1</td>\n",
       "    </tr>\n",
       "  </tbody>\n",
       "</table>\n",
       "</div>"
      ],
      "text/plain": [
       "        date  holiday  weekend\n",
       "0 2013-01-01        1        0\n",
       "1 2013-01-02        1        0\n",
       "2 2013-01-03        1        0\n",
       "3 2013-01-04        1        0\n",
       "4 2013-01-05        0        1"
      ]
     },
     "execution_count": 14,
     "metadata": {},
     "output_type": "execute_result"
    }
   ],
   "source": [
    "#read in other data file to join with df_sales \n",
    "    # 3.calendar.csv to get weekend and holiday info for dates (source: Kâzım Anıl Eren)\n",
    "parser_todate2 = lambda date: pd.to_datetime(date, format = '%Y-%m-%d')\n",
    "\n",
    "df_calendar = pd.read_csv('data/sup/calendar.csv', parse_dates=['date'], date_parser=parser_todate2)\n",
    "df_calendar.head()"
   ]
  },
  {
   "cell_type": "code",
   "execution_count": 15,
   "metadata": {},
   "outputs": [
    {
     "data": {
      "text/plain": [
       "weekend    0\n",
       "holiday    0\n",
       "date       0\n",
       "dtype: int64"
      ]
     },
     "execution_count": 15,
     "metadata": {},
     "output_type": "execute_result"
    }
   ],
   "source": [
    "#check for null values\n",
    "df_calendar.isnull().sum().sort_values(ascending=False)  "
   ]
  },
  {
   "cell_type": "code",
   "execution_count": 16,
   "metadata": {},
   "outputs": [],
   "source": [
    "#get month/year/day_of_week to investiagte trend\n",
    "df_calendar['month'] = df_calendar.date.apply(lambda x: x.strftime('%m'))\n",
    "df_calendar['year'] = df_calendar.date.apply(lambda x: x.strftime('%Y'))\n",
    "df_calendar['day_of_week'] = df_calendar.date.apply(lambda x: x.weekday())                "
   ]
  },
  {
   "cell_type": "code",
   "execution_count": 17,
   "metadata": {
    "scrolled": true
   },
   "outputs": [
    {
     "data": {
      "text/html": [
       "<div>\n",
       "<style scoped>\n",
       "    .dataframe tbody tr th:only-of-type {\n",
       "        vertical-align: middle;\n",
       "    }\n",
       "\n",
       "    .dataframe tbody tr th {\n",
       "        vertical-align: top;\n",
       "    }\n",
       "\n",
       "    .dataframe thead th {\n",
       "        text-align: right;\n",
       "    }\n",
       "</style>\n",
       "<table border=\"1\" class=\"dataframe\">\n",
       "  <thead>\n",
       "    <tr style=\"text-align: right;\">\n",
       "      <th></th>\n",
       "      <th>shop_id</th>\n",
       "      <th>City</th>\n",
       "      <th>Type</th>\n",
       "      <th>Name</th>\n",
       "    </tr>\n",
       "  </thead>\n",
       "  <tbody>\n",
       "    <tr>\n",
       "      <td>0</td>\n",
       "      <td>0</td>\n",
       "      <td>Yakutsk</td>\n",
       "      <td>Shop</td>\n",
       "      <td>Ordzhonikidze, 56 francs</td>\n",
       "    </tr>\n",
       "    <tr>\n",
       "      <td>1</td>\n",
       "      <td>1</td>\n",
       "      <td>Yakutsk</td>\n",
       "      <td>TC</td>\n",
       "      <td>Central franc</td>\n",
       "    </tr>\n",
       "    <tr>\n",
       "      <td>2</td>\n",
       "      <td>2</td>\n",
       "      <td>Adygea</td>\n",
       "      <td>TC</td>\n",
       "      <td>Mega</td>\n",
       "    </tr>\n",
       "    <tr>\n",
       "      <td>3</td>\n",
       "      <td>3</td>\n",
       "      <td>Balashikha</td>\n",
       "      <td>TRC</td>\n",
       "      <td>October-Kinomir</td>\n",
       "    </tr>\n",
       "    <tr>\n",
       "      <td>4</td>\n",
       "      <td>4</td>\n",
       "      <td>Volzhsky</td>\n",
       "      <td>TC</td>\n",
       "      <td>Volga Mall</td>\n",
       "    </tr>\n",
       "  </tbody>\n",
       "</table>\n",
       "</div>"
      ],
      "text/plain": [
       "   shop_id        City  Type                      Name\n",
       "0        0     Yakutsk  Shop  Ordzhonikidze, 56 francs\n",
       "1        1     Yakutsk    TC             Central franc\n",
       "2        2      Adygea    TC                      Mega\n",
       "3        3  Balashikha   TRC           October-Kinomir\n",
       "4        4    Volzhsky    TC                Volga Mall"
      ]
     },
     "execution_count": 17,
     "metadata": {},
     "output_type": "execute_result"
    }
   ],
   "source": [
    "#read in other data file, join data by fields \n",
    "    #  4.translated shop info: shop name, type and city (original in Russian; source: Kâzım Anıl Eren)\n",
    "df_shop = pd.read_csv('data/sup/shops-translated.csv')\n",
    "df_shop.head()"
   ]
  },
  {
   "cell_type": "code",
   "execution_count": 18,
   "metadata": {},
   "outputs": [
    {
     "data": {
      "text/plain": [
       "Name       1\n",
       "Type       0\n",
       "City       0\n",
       "shop_id    0\n",
       "dtype: int64"
      ]
     },
     "execution_count": 18,
     "metadata": {},
     "output_type": "execute_result"
    }
   ],
   "source": [
    "#check for null\n",
    "df_shop.isnull().sum().sort_values(ascending=False)  "
   ]
  },
  {
   "cell_type": "code",
   "execution_count": 19,
   "metadata": {},
   "outputs": [
    {
     "data": {
      "text/html": [
       "<div>\n",
       "<style scoped>\n",
       "    .dataframe tbody tr th:only-of-type {\n",
       "        vertical-align: middle;\n",
       "    }\n",
       "\n",
       "    .dataframe tbody tr th {\n",
       "        vertical-align: top;\n",
       "    }\n",
       "\n",
       "    .dataframe thead th {\n",
       "        text-align: right;\n",
       "    }\n",
       "</style>\n",
       "<table border=\"1\" class=\"dataframe\">\n",
       "  <thead>\n",
       "    <tr style=\"text-align: right;\">\n",
       "      <th></th>\n",
       "      <th>date</th>\n",
       "      <th>date_block_num</th>\n",
       "      <th>shop_id</th>\n",
       "      <th>item_id</th>\n",
       "      <th>item_price</th>\n",
       "      <th>item_cnt_day</th>\n",
       "      <th>item_name_translated</th>\n",
       "      <th>item_cat1</th>\n",
       "      <th>item_cat2</th>\n",
       "      <th>item_category_id</th>\n",
       "      <th>holiday</th>\n",
       "      <th>weekend</th>\n",
       "      <th>month</th>\n",
       "      <th>year</th>\n",
       "      <th>day_of_week</th>\n",
       "      <th>City</th>\n",
       "      <th>Type</th>\n",
       "      <th>Name</th>\n",
       "    </tr>\n",
       "  </thead>\n",
       "  <tbody>\n",
       "    <tr>\n",
       "      <td>0</td>\n",
       "      <td>2013-01-02</td>\n",
       "      <td>0</td>\n",
       "      <td>59</td>\n",
       "      <td>22154</td>\n",
       "      <td>999.00</td>\n",
       "      <td>1.0</td>\n",
       "      <td>SCENE 2012 (BD)</td>\n",
       "      <td>Cinema</td>\n",
       "      <td>Blu-Ray</td>\n",
       "      <td>37</td>\n",
       "      <td>1</td>\n",
       "      <td>0</td>\n",
       "      <td>01</td>\n",
       "      <td>2013</td>\n",
       "      <td>2</td>\n",
       "      <td>Yaroslavl</td>\n",
       "      <td>SC</td>\n",
       "      <td>Altair</td>\n",
       "    </tr>\n",
       "    <tr>\n",
       "      <td>1</td>\n",
       "      <td>2013-01-03</td>\n",
       "      <td>0</td>\n",
       "      <td>25</td>\n",
       "      <td>2552</td>\n",
       "      <td>899.00</td>\n",
       "      <td>1.0</td>\n",
       "      <td>DEEP PURPLE  The House Of Blue Light  LP</td>\n",
       "      <td>Music</td>\n",
       "      <td>Vinyl</td>\n",
       "      <td>58</td>\n",
       "      <td>1</td>\n",
       "      <td>0</td>\n",
       "      <td>01</td>\n",
       "      <td>2013</td>\n",
       "      <td>3</td>\n",
       "      <td>Moscow</td>\n",
       "      <td>TRC</td>\n",
       "      <td>Atrium</td>\n",
       "    </tr>\n",
       "    <tr>\n",
       "      <td>2</td>\n",
       "      <td>2013-01-05</td>\n",
       "      <td>0</td>\n",
       "      <td>25</td>\n",
       "      <td>2552</td>\n",
       "      <td>899.00</td>\n",
       "      <td>-1.0</td>\n",
       "      <td>DEEP PURPLE  The House Of Blue Light  LP</td>\n",
       "      <td>Music</td>\n",
       "      <td>Vinyl</td>\n",
       "      <td>58</td>\n",
       "      <td>0</td>\n",
       "      <td>1</td>\n",
       "      <td>01</td>\n",
       "      <td>2013</td>\n",
       "      <td>5</td>\n",
       "      <td>Moscow</td>\n",
       "      <td>TRC</td>\n",
       "      <td>Atrium</td>\n",
       "    </tr>\n",
       "    <tr>\n",
       "      <td>3</td>\n",
       "      <td>2013-01-06</td>\n",
       "      <td>0</td>\n",
       "      <td>25</td>\n",
       "      <td>2554</td>\n",
       "      <td>1709.05</td>\n",
       "      <td>1.0</td>\n",
       "      <td>DEEP PURPLE  Who Do You Think We Are  LP</td>\n",
       "      <td>Music</td>\n",
       "      <td>Vinyl</td>\n",
       "      <td>58</td>\n",
       "      <td>0</td>\n",
       "      <td>1</td>\n",
       "      <td>01</td>\n",
       "      <td>2013</td>\n",
       "      <td>6</td>\n",
       "      <td>Moscow</td>\n",
       "      <td>TRC</td>\n",
       "      <td>Atrium</td>\n",
       "    </tr>\n",
       "    <tr>\n",
       "      <td>4</td>\n",
       "      <td>2013-01-15</td>\n",
       "      <td>0</td>\n",
       "      <td>25</td>\n",
       "      <td>2555</td>\n",
       "      <td>1099.00</td>\n",
       "      <td>1.0</td>\n",
       "      <td>DEEP PURPLE 30 Very Best Of 2CD (Фирм.)</td>\n",
       "      <td>Music</td>\n",
       "      <td>CD of branded production</td>\n",
       "      <td>56</td>\n",
       "      <td>0</td>\n",
       "      <td>0</td>\n",
       "      <td>01</td>\n",
       "      <td>2013</td>\n",
       "      <td>1</td>\n",
       "      <td>Moscow</td>\n",
       "      <td>TRC</td>\n",
       "      <td>Atrium</td>\n",
       "    </tr>\n",
       "  </tbody>\n",
       "</table>\n",
       "</div>"
      ],
      "text/plain": [
       "        date  date_block_num  shop_id  item_id  item_price  item_cnt_day  \\\n",
       "0 2013-01-02               0       59    22154      999.00           1.0   \n",
       "1 2013-01-03               0       25     2552      899.00           1.0   \n",
       "2 2013-01-05               0       25     2552      899.00          -1.0   \n",
       "3 2013-01-06               0       25     2554     1709.05           1.0   \n",
       "4 2013-01-15               0       25     2555     1099.00           1.0   \n",
       "\n",
       "                       item_name_translated item_cat1  \\\n",
       "0                           SCENE 2012 (BD)    Cinema   \n",
       "1  DEEP PURPLE  The House Of Blue Light  LP     Music   \n",
       "2  DEEP PURPLE  The House Of Blue Light  LP     Music   \n",
       "3  DEEP PURPLE  Who Do You Think We Are  LP     Music   \n",
       "4   DEEP PURPLE 30 Very Best Of 2CD (Фирм.)     Music   \n",
       "\n",
       "                  item_cat2  item_category_id  holiday  weekend month  year  \\\n",
       "0                   Blu-Ray                37        1        0    01  2013   \n",
       "1                     Vinyl                58        1        0    01  2013   \n",
       "2                     Vinyl                58        0        1    01  2013   \n",
       "3                     Vinyl                58        0        1    01  2013   \n",
       "4  CD of branded production                56        0        0    01  2013   \n",
       "\n",
       "   day_of_week       City Type    Name  \n",
       "0            2  Yaroslavl   SC  Altair  \n",
       "1            3     Moscow  TRC  Atrium  \n",
       "2            5     Moscow  TRC  Atrium  \n",
       "3            6     Moscow  TRC  Atrium  \n",
       "4            1     Moscow  TRC  Atrium  "
      ]
     },
     "execution_count": 19,
     "metadata": {},
     "output_type": "execute_result"
    }
   ],
   "source": [
    "#join addition data frames with df_sales\n",
    "df_sales = pd.merge(df_sales, df_calendar, how = 'left', left_on = 'date', right_on = 'date')\n",
    "df_sales = pd.merge(df_sales, df_shop, how = 'left', left_on = 'shop_id', right_on = 'shop_id')\n",
    "df_sales.head()\n"
   ]
  },
  {
   "cell_type": "code",
   "execution_count": 20,
   "metadata": {},
   "outputs": [
    {
     "data": {
      "text/plain": [
       "item_cat2               30403\n",
       "Name                     3751\n",
       "City                        0\n",
       "day_of_week                 0\n",
       "year                        0\n",
       "month                       0\n",
       "weekend                     0\n",
       "holiday                     0\n",
       "item_category_id            0\n",
       "Type                        0\n",
       "item_cat1                   0\n",
       "item_name_translated        0\n",
       "item_cnt_day                0\n",
       "item_price                  0\n",
       "item_id                     0\n",
       "shop_id                     0\n",
       "date_block_num              0\n",
       "date                        0\n",
       "dtype: int64"
      ]
     },
     "execution_count": 20,
     "metadata": {},
     "output_type": "execute_result"
    }
   ],
   "source": [
    "#check for null values in the joined data frame\n",
    "df_sales.isnull().sum().sort_values(ascending=False) "
   ]
  },
  {
   "cell_type": "code",
   "execution_count": 21,
   "metadata": {},
   "outputs": [
    {
     "data": {
      "text/plain": [
       "date                    datetime64[ns]\n",
       "date_block_num                   int64\n",
       "shop_id                          int64\n",
       "item_id                          int64\n",
       "item_price                     float64\n",
       "item_cnt_day                   float64\n",
       "item_name_translated            object\n",
       "item_cat1                       object\n",
       "item_cat2                       object\n",
       "item_category_id                 int64\n",
       "holiday                          int64\n",
       "weekend                          int64\n",
       "month                           object\n",
       "year                            object\n",
       "day_of_week                      int64\n",
       "City                            object\n",
       "Type                            object\n",
       "Name                            object\n",
       "dtype: object"
      ]
     },
     "execution_count": 21,
     "metadata": {},
     "output_type": "execute_result"
    }
   ],
   "source": [
    "#check for data types\n",
    "df_sales.dtypes"
   ]
  },
  {
   "cell_type": "code",
   "execution_count": 22,
   "metadata": {},
   "outputs": [
    {
     "data": {
      "text/html": [
       "<div>\n",
       "<style scoped>\n",
       "    .dataframe tbody tr th:only-of-type {\n",
       "        vertical-align: middle;\n",
       "    }\n",
       "\n",
       "    .dataframe tbody tr th {\n",
       "        vertical-align: top;\n",
       "    }\n",
       "\n",
       "    .dataframe thead th {\n",
       "        text-align: right;\n",
       "    }\n",
       "</style>\n",
       "<table border=\"1\" class=\"dataframe\">\n",
       "  <thead>\n",
       "    <tr style=\"text-align: right;\">\n",
       "      <th></th>\n",
       "      <th>date</th>\n",
       "      <th>date_block_num</th>\n",
       "      <th>shop_id</th>\n",
       "      <th>item_id</th>\n",
       "      <th>item_price</th>\n",
       "      <th>item_cnt_day</th>\n",
       "      <th>item_name_translated</th>\n",
       "      <th>item_cat1</th>\n",
       "      <th>item_cat2</th>\n",
       "      <th>item_category_id</th>\n",
       "      <th>holiday</th>\n",
       "      <th>weekend</th>\n",
       "      <th>month</th>\n",
       "      <th>year</th>\n",
       "      <th>day_of_week</th>\n",
       "      <th>City</th>\n",
       "      <th>Type</th>\n",
       "      <th>Name</th>\n",
       "    </tr>\n",
       "  </thead>\n",
       "  <tbody>\n",
       "    <tr>\n",
       "      <td>0</td>\n",
       "      <td>2013-01-02</td>\n",
       "      <td>0</td>\n",
       "      <td>59</td>\n",
       "      <td>22154</td>\n",
       "      <td>999.00</td>\n",
       "      <td>1.0</td>\n",
       "      <td>SCENE 2012 (BD)</td>\n",
       "      <td>Cinema</td>\n",
       "      <td>Blu-Ray</td>\n",
       "      <td>37</td>\n",
       "      <td>1</td>\n",
       "      <td>0</td>\n",
       "      <td>01</td>\n",
       "      <td>2013</td>\n",
       "      <td>2</td>\n",
       "      <td>Yaroslavl</td>\n",
       "      <td>SC</td>\n",
       "      <td>Altair</td>\n",
       "    </tr>\n",
       "    <tr>\n",
       "      <td>1</td>\n",
       "      <td>2013-01-03</td>\n",
       "      <td>0</td>\n",
       "      <td>25</td>\n",
       "      <td>2552</td>\n",
       "      <td>899.00</td>\n",
       "      <td>1.0</td>\n",
       "      <td>DEEP PURPLE  The House Of Blue Light  LP</td>\n",
       "      <td>Music</td>\n",
       "      <td>Vinyl</td>\n",
       "      <td>58</td>\n",
       "      <td>1</td>\n",
       "      <td>0</td>\n",
       "      <td>01</td>\n",
       "      <td>2013</td>\n",
       "      <td>3</td>\n",
       "      <td>Moscow</td>\n",
       "      <td>TRC</td>\n",
       "      <td>Atrium</td>\n",
       "    </tr>\n",
       "    <tr>\n",
       "      <td>2</td>\n",
       "      <td>2013-01-05</td>\n",
       "      <td>0</td>\n",
       "      <td>25</td>\n",
       "      <td>2552</td>\n",
       "      <td>899.00</td>\n",
       "      <td>-1.0</td>\n",
       "      <td>DEEP PURPLE  The House Of Blue Light  LP</td>\n",
       "      <td>Music</td>\n",
       "      <td>Vinyl</td>\n",
       "      <td>58</td>\n",
       "      <td>0</td>\n",
       "      <td>1</td>\n",
       "      <td>01</td>\n",
       "      <td>2013</td>\n",
       "      <td>5</td>\n",
       "      <td>Moscow</td>\n",
       "      <td>TRC</td>\n",
       "      <td>Atrium</td>\n",
       "    </tr>\n",
       "    <tr>\n",
       "      <td>3</td>\n",
       "      <td>2013-01-06</td>\n",
       "      <td>0</td>\n",
       "      <td>25</td>\n",
       "      <td>2554</td>\n",
       "      <td>1709.05</td>\n",
       "      <td>1.0</td>\n",
       "      <td>DEEP PURPLE  Who Do You Think We Are  LP</td>\n",
       "      <td>Music</td>\n",
       "      <td>Vinyl</td>\n",
       "      <td>58</td>\n",
       "      <td>0</td>\n",
       "      <td>1</td>\n",
       "      <td>01</td>\n",
       "      <td>2013</td>\n",
       "      <td>6</td>\n",
       "      <td>Moscow</td>\n",
       "      <td>TRC</td>\n",
       "      <td>Atrium</td>\n",
       "    </tr>\n",
       "    <tr>\n",
       "      <td>4</td>\n",
       "      <td>2013-01-15</td>\n",
       "      <td>0</td>\n",
       "      <td>25</td>\n",
       "      <td>2555</td>\n",
       "      <td>1099.00</td>\n",
       "      <td>1.0</td>\n",
       "      <td>DEEP PURPLE 30 Very Best Of 2CD (Фирм.)</td>\n",
       "      <td>Music</td>\n",
       "      <td>CD of branded production</td>\n",
       "      <td>56</td>\n",
       "      <td>0</td>\n",
       "      <td>0</td>\n",
       "      <td>01</td>\n",
       "      <td>2013</td>\n",
       "      <td>1</td>\n",
       "      <td>Moscow</td>\n",
       "      <td>TRC</td>\n",
       "      <td>Atrium</td>\n",
       "    </tr>\n",
       "  </tbody>\n",
       "</table>\n",
       "</div>"
      ],
      "text/plain": [
       "        date  date_block_num  shop_id  item_id  item_price  item_cnt_day  \\\n",
       "0 2013-01-02               0       59    22154      999.00           1.0   \n",
       "1 2013-01-03               0       25     2552      899.00           1.0   \n",
       "2 2013-01-05               0       25     2552      899.00          -1.0   \n",
       "3 2013-01-06               0       25     2554     1709.05           1.0   \n",
       "4 2013-01-15               0       25     2555     1099.00           1.0   \n",
       "\n",
       "                       item_name_translated item_cat1  \\\n",
       "0                           SCENE 2012 (BD)    Cinema   \n",
       "1  DEEP PURPLE  The House Of Blue Light  LP     Music   \n",
       "2  DEEP PURPLE  The House Of Blue Light  LP     Music   \n",
       "3  DEEP PURPLE  Who Do You Think We Are  LP     Music   \n",
       "4   DEEP PURPLE 30 Very Best Of 2CD (Фирм.)     Music   \n",
       "\n",
       "                  item_cat2  item_category_id  holiday  weekend month  year  \\\n",
       "0                   Blu-Ray                37        1        0    01  2013   \n",
       "1                     Vinyl                58        1        0    01  2013   \n",
       "2                     Vinyl                58        0        1    01  2013   \n",
       "3                     Vinyl                58        0        1    01  2013   \n",
       "4  CD of branded production                56        0        0    01  2013   \n",
       "\n",
       "   day_of_week       City Type    Name  \n",
       "0            2  Yaroslavl   SC  Altair  \n",
       "1            3     Moscow  TRC  Atrium  \n",
       "2            5     Moscow  TRC  Atrium  \n",
       "3            6     Moscow  TRC  Atrium  \n",
       "4            1     Moscow  TRC  Atrium  "
      ]
     },
     "execution_count": 22,
     "metadata": {},
     "output_type": "execute_result"
    }
   ],
   "source": [
    "df_sales.head()"
   ]
  },
  {
   "cell_type": "code",
   "execution_count": 23,
   "metadata": {},
   "outputs": [
    {
     "name": "stdout",
     "output_type": "stream",
     "text": [
      "earliest date in training set = 2013-01-01 00:00:00\n",
      "latest date in training set = 2015-10-31 00:00:00\n",
      "date block numbers = [ 0  1  2  3  4  5  6  7  8  9 10 11 12 13 14 15 16 17 18 19 20 21 22 23\n",
      " 24 25 26 27 28 29 30 31 32 33]\n"
     ]
    }
   ],
   "source": [
    "#get date and block numbers (month)in the training set\n",
    "print('earliest date in training set = %s' % df_sales['date'].min())\n",
    "print('latest date in training set = %s' % df_sales['date'].max())\n",
    "\n",
    "print('date block numbers = %s' % df_sales['date_block_num'].unique())\n",
    "#df_sales[df_sales['date_block_num'] == 20]['date'].min()"
   ]
  },
  {
   "cell_type": "code",
   "execution_count": 24,
   "metadata": {},
   "outputs": [
    {
     "data": {
      "text/html": [
       "<div>\n",
       "<style scoped>\n",
       "    .dataframe tbody tr th:only-of-type {\n",
       "        vertical-align: middle;\n",
       "    }\n",
       "\n",
       "    .dataframe tbody tr th {\n",
       "        vertical-align: top;\n",
       "    }\n",
       "\n",
       "    .dataframe thead th {\n",
       "        text-align: right;\n",
       "    }\n",
       "</style>\n",
       "<table border=\"1\" class=\"dataframe\">\n",
       "  <thead>\n",
       "    <tr style=\"text-align: right;\">\n",
       "      <th></th>\n",
       "      <th>ID</th>\n",
       "      <th>shop_id</th>\n",
       "      <th>item_id</th>\n",
       "    </tr>\n",
       "  </thead>\n",
       "  <tbody>\n",
       "    <tr>\n",
       "      <td>0</td>\n",
       "      <td>0</td>\n",
       "      <td>5</td>\n",
       "      <td>5037</td>\n",
       "    </tr>\n",
       "    <tr>\n",
       "      <td>1</td>\n",
       "      <td>1</td>\n",
       "      <td>5</td>\n",
       "      <td>5320</td>\n",
       "    </tr>\n",
       "    <tr>\n",
       "      <td>2</td>\n",
       "      <td>2</td>\n",
       "      <td>5</td>\n",
       "      <td>5233</td>\n",
       "    </tr>\n",
       "    <tr>\n",
       "      <td>3</td>\n",
       "      <td>3</td>\n",
       "      <td>5</td>\n",
       "      <td>5232</td>\n",
       "    </tr>\n",
       "    <tr>\n",
       "      <td>4</td>\n",
       "      <td>4</td>\n",
       "      <td>5</td>\n",
       "      <td>5268</td>\n",
       "    </tr>\n",
       "  </tbody>\n",
       "</table>\n",
       "</div>"
      ],
      "text/plain": [
       "   ID  shop_id  item_id\n",
       "0   0        5     5037\n",
       "1   1        5     5320\n",
       "2   2        5     5233\n",
       "3   3        5     5232\n",
       "4   4        5     5268"
      ]
     },
     "execution_count": 24,
     "metadata": {},
     "output_type": "execute_result"
    }
   ],
   "source": [
    "################### read in test set and screen for overlaps of store id's before analysis #######\n",
    "df_test = pd.read_csv('data/test.csv')\n",
    "df_test.head()"
   ]
  },
  {
   "cell_type": "code",
   "execution_count": 25,
   "metadata": {},
   "outputs": [
    {
     "data": {
      "text/plain": [
       "item_id    0\n",
       "shop_id    0\n",
       "ID         0\n",
       "dtype: int64"
      ]
     },
     "execution_count": 25,
     "metadata": {},
     "output_type": "execute_result"
    }
   ],
   "source": [
    "#check for null values in test set\n",
    "df_test.isnull().sum().sort_values(ascending=False)"
   ]
  },
  {
   "cell_type": "code",
   "execution_count": 26,
   "metadata": {},
   "outputs": [
    {
     "name": "stdout",
     "output_type": "stream",
     "text": [
      "number in training set (original) =  2935849\n",
      "number in test set (original) =  214200\n",
      "number in training set (screened) =  1224439\n"
     ]
    }
   ],
   "source": [
    "#screen for overlaps of item_id/shop_id between train and test set\n",
    "print (\"number in training set (original) = \", df_sales.shape[0])\n",
    "print (\"number in test set (original) = \", df_test.shape[0])\n",
    "test_shopID = df_test.shop_id.unique()\n",
    "test_itemID = df_test.item_id.unique()\n",
    "\n",
    "df_sales = df_sales[df_sales.shop_id.isin(test_shopID)]\n",
    "df_sales = df_sales[df_sales.item_id.isin(test_itemID)]\n",
    "\n",
    "print (\"number in training set (screened) = \", df_sales.shape[0])\n"
   ]
  },
  {
   "cell_type": "code",
   "execution_count": 27,
   "metadata": {},
   "outputs": [
    {
     "data": {
      "text/plain": [
       "[Text(33.0, 0.5, 'Store'), Text(0.5, 15.0, 'Month')]"
      ]
     },
     "execution_count": 27,
     "metadata": {},
     "output_type": "execute_result"
    },
    {
     "data": {
      "image/png": "[encoded data removed]",
      "text/plain": [
       "<Figure size 432x288 with 2 Axes>"
      ]
     },
     "metadata": {
      "needs_background": "light"
     },
     "output_type": "display_data"
    }
   ],
   "source": [
    "################ Exploratory Data Analysis ###################################################\n",
    "\n",
    "#plot monthly total item sold by store\n",
    "sales_by_store = df_sales.pivot_table(index='shop_id', columns='date_block_num', \\\n",
    "                                      values='item_cnt_day', aggfunc='sum')\n",
    "\n",
    "ax=sns.heatmap(sales_by_store,cmap=\"YlGnBu\")\n",
    "ax.set_title(\"Monthly total item sold by store\")\n",
    "ax.set(xlabel='Month',ylabel='Store')"
   ]
  },
  {
   "cell_type": "code",
   "execution_count": 28,
   "metadata": {},
   "outputs": [],
   "source": [
    "#compute revenue\n",
    "df_sales['revenue'] = df_sales['item_cnt_day'] * df_sales['item_price']"
   ]
  },
  {
   "cell_type": "code",
   "execution_count": 29,
   "metadata": {},
   "outputs": [
    {
     "data": {
      "text/plain": [
       "[Text(33.0, 0.5, 'Store'), Text(0.5, 15.0, 'Month')]"
      ]
     },
     "execution_count": 29,
     "metadata": {},
     "output_type": "execute_result"
    },
    {
     "data": {
      "image/png": "[encoded data removed]",
      "text/plain": [
       "<Figure size 432x288 with 2 Axes>"
      ]
     },
     "metadata": {
      "needs_background": "light"
     },
     "output_type": "display_data"
    }
   ],
   "source": [
    "#plot total monthly revenue for each store\n",
    "revenue_by_store = df_sales.pivot_table(index='shop_id', columns='date_block_num', \\\n",
    "                                        values='revenue', aggfunc='sum')\n",
    "\n",
    "ax = sns.heatmap(revenue_by_store,cmap=\"YlGnBu\")\n",
    "ax.set_title(\"Monthly revenue by store\")\n",
    "ax.set(xlabel='Month',ylabel='Store')\n"
   ]
  },
  {
   "cell_type": "code",
   "execution_count": 30,
   "metadata": {},
   "outputs": [
    {
     "data": {
      "text/html": [
       "<div>\n",
       "<style scoped>\n",
       "    .dataframe tbody tr th:only-of-type {\n",
       "        vertical-align: middle;\n",
       "    }\n",
       "\n",
       "    .dataframe tbody tr th {\n",
       "        vertical-align: top;\n",
       "    }\n",
       "\n",
       "    .dataframe thead th {\n",
       "        text-align: right;\n",
       "    }\n",
       "</style>\n",
       "<table border=\"1\" class=\"dataframe\">\n",
       "  <thead>\n",
       "    <tr style=\"text-align: right;\">\n",
       "      <th></th>\n",
       "      <th>date</th>\n",
       "      <th>shop_id</th>\n",
       "      <th>sum_revenue</th>\n",
       "      <th>sum_item_cnt</th>\n",
       "      <th>holiday</th>\n",
       "      <th>weekend</th>\n",
       "      <th>month</th>\n",
       "      <th>year</th>\n",
       "      <th>day_of_week</th>\n",
       "      <th>City</th>\n",
       "      <th>Type</th>\n",
       "      <th>Name</th>\n",
       "    </tr>\n",
       "  </thead>\n",
       "  <tbody>\n",
       "    <tr>\n",
       "      <td>0</td>\n",
       "      <td>2013-01-01</td>\n",
       "      <td>2</td>\n",
       "      <td>1496.0</td>\n",
       "      <td>4.0</td>\n",
       "      <td>1</td>\n",
       "      <td>0</td>\n",
       "      <td>01</td>\n",
       "      <td>2013</td>\n",
       "      <td>1</td>\n",
       "      <td>Adygea</td>\n",
       "      <td>TC</td>\n",
       "      <td>Mega</td>\n",
       "    </tr>\n",
       "    <tr>\n",
       "      <td>1</td>\n",
       "      <td>2013-01-01</td>\n",
       "      <td>7</td>\n",
       "      <td>13912.3</td>\n",
       "      <td>19.0</td>\n",
       "      <td>1</td>\n",
       "      <td>0</td>\n",
       "      <td>01</td>\n",
       "      <td>2013</td>\n",
       "      <td>1</td>\n",
       "      <td>Voronezh</td>\n",
       "      <td>TRC</td>\n",
       "      <td>Maksimir</td>\n",
       "    </tr>\n",
       "    <tr>\n",
       "      <td>2</td>\n",
       "      <td>2013-01-01</td>\n",
       "      <td>14</td>\n",
       "      <td>16489.0</td>\n",
       "      <td>22.0</td>\n",
       "      <td>1</td>\n",
       "      <td>0</td>\n",
       "      <td>01</td>\n",
       "      <td>2013</td>\n",
       "      <td>1</td>\n",
       "      <td>Kazan</td>\n",
       "      <td>TC</td>\n",
       "      <td>ParkHaus II</td>\n",
       "    </tr>\n",
       "    <tr>\n",
       "      <td>3</td>\n",
       "      <td>2013-01-01</td>\n",
       "      <td>15</td>\n",
       "      <td>22442.5</td>\n",
       "      <td>30.0</td>\n",
       "      <td>1</td>\n",
       "      <td>0</td>\n",
       "      <td>01</td>\n",
       "      <td>2013</td>\n",
       "      <td>1</td>\n",
       "      <td>Kaluga</td>\n",
       "      <td>TRC</td>\n",
       "      <td>XXI Century</td>\n",
       "    </tr>\n",
       "    <tr>\n",
       "      <td>4</td>\n",
       "      <td>2013-01-01</td>\n",
       "      <td>18</td>\n",
       "      <td>15055.0</td>\n",
       "      <td>16.0</td>\n",
       "      <td>1</td>\n",
       "      <td>0</td>\n",
       "      <td>01</td>\n",
       "      <td>2013</td>\n",
       "      <td>1</td>\n",
       "      <td>Krasnoyarsk</td>\n",
       "      <td>TC</td>\n",
       "      <td>June</td>\n",
       "    </tr>\n",
       "  </tbody>\n",
       "</table>\n",
       "</div>"
      ],
      "text/plain": [
       "        date  shop_id  sum_revenue  sum_item_cnt  holiday  weekend month  \\\n",
       "0 2013-01-01        2       1496.0           4.0        1        0    01   \n",
       "1 2013-01-01        7      13912.3          19.0        1        0    01   \n",
       "2 2013-01-01       14      16489.0          22.0        1        0    01   \n",
       "3 2013-01-01       15      22442.5          30.0        1        0    01   \n",
       "4 2013-01-01       18      15055.0          16.0        1        0    01   \n",
       "\n",
       "   year  day_of_week         City Type         Name  \n",
       "0  2013            1       Adygea   TC         Mega  \n",
       "1  2013            1     Voronezh  TRC     Maksimir  \n",
       "2  2013            1        Kazan   TC  ParkHaus II  \n",
       "3  2013            1       Kaluga  TRC  XXI Century  \n",
       "4  2013            1  Krasnoyarsk   TC         June  "
      ]
     },
     "execution_count": 30,
     "metadata": {},
     "output_type": "execute_result"
    }
   ],
   "source": [
    "#get daily sales df (for further daily pattern analysis)\n",
    "df_dailysales = df_sales\n",
    "\n",
    "df_dailysales = df_dailysales.sort_values('date').groupby(['date', 'shop_id'], as_index=False)\n",
    "df_dailysales = df_dailysales.agg({'revenue':['sum'], 'item_cnt_day':['sum']})\n",
    "\n",
    "df_dailysales.columns = ['date', 'shop_id', 'sum_revenue', 'sum_item_cnt']\n",
    "\n",
    "\n",
    "df_dailysales = pd.merge(df_dailysales, df_calendar, how = 'left', left_on = 'date', right_on = 'date')\n",
    "df_dailysales = pd.merge(df_dailysales, df_shop, how = 'left', left_on = 'shop_id', right_on = 'shop_id')\n",
    "\n",
    "df_dailysales.head()\n"
   ]
  },
  {
   "cell_type": "code",
   "execution_count": 31,
   "metadata": {},
   "outputs": [
    {
     "data": {
      "text/plain": [
       "[Text(33.0, 0.5, 'Store'), Text(0.5, 15.0, 'Day of the week')]"
      ]
     },
     "execution_count": 31,
     "metadata": {},
     "output_type": "execute_result"
    },
    {
     "data": {
      "image/png": "[encoded data removed]",
      "text/plain": [
       "<Figure size 432x288 with 2 Axes>"
      ]
     },
     "metadata": {
      "needs_background": "light"
     },
     "output_type": "display_data"
    }
   ],
   "source": [
    "#plot average daily sales for each day of week\n",
    "df_dailysales['day_of_week'] = df_dailysales.date.apply(lambda x: x.weekday())\n",
    "dofwsales_by_store = df_dailysales.pivot_table(index='shop_id', columns='day_of_week', \\\n",
    "                                               values='sum_item_cnt', aggfunc='mean')\n",
    "\n",
    "ax=sns.heatmap(dofwsales_by_store,cmap=\"YlGnBu\")\n",
    "ax.set_title(\"Average item sold by day of the week\")\n",
    "ax.set(xlabel='Day of the week',ylabel='Store')\n"
   ]
  },
  {
   "cell_type": "code",
   "execution_count": 32,
   "metadata": {},
   "outputs": [
    {
     "data": {
      "text/plain": [
       "[Text(33.0, 0.5, 'Store'), Text(0.5, 15.0, 'Holiday')]"
      ]
     },
     "execution_count": 32,
     "metadata": {},
     "output_type": "execute_result"
    },
    {
     "data": {
      "image/png": "[encoded data removed]",
      "text/plain": [
       "<Figure size 432x288 with 2 Axes>"
      ]
     },
     "metadata": {
      "needs_background": "light"
     },
     "output_type": "display_data"
    }
   ],
   "source": [
    "#plot avearage daily sales (item count) on holiday vs. non-holiday\n",
    "holidaysales_by_store = df_dailysales.pivot_table(index='shop_id', columns='holiday', values='sum_item_cnt', aggfunc='mean')\n",
    " \n",
    "ax=sns.heatmap(holidaysales_by_store,cmap=\"YlGnBu\")\n",
    "ax.set_title(\"Average item sold: holiday vs non-holiday\")\n",
    "ax.set(xlabel='Holiday',ylabel='Store')\n"
   ]
  },
  {
   "cell_type": "code",
   "execution_count": 33,
   "metadata": {},
   "outputs": [
    {
     "data": {
      "text/plain": [
       "[Text(33.0, 0.5, 'Store'), Text(0.5, 15.0, 'Holiday')]"
      ]
     },
     "execution_count": 33,
     "metadata": {},
     "output_type": "execute_result"
    },
    {
     "data": {
      "image/png": "[encoded data removed]",
      "text/plain": [
       "<Figure size 432x288 with 2 Axes>"
      ]
     },
     "metadata": {
      "needs_background": "light"
     },
     "output_type": "display_data"
    }
   ],
   "source": [
    "# plot average daily revnue on holiday vs. non-holiday\n",
    "holidayrevenue_by_store = df_dailysales.pivot_table(index='shop_id', columns='holiday', values='sum_revenue', aggfunc='mean')\n",
    " \n",
    "ax=sns.heatmap(holidayrevenue_by_store,cmap=\"YlGnBu\")\n",
    "ax.set_title(\"Average daily revenue: holiday vs non-holiday\")\n",
    "ax.set(xlabel='Holiday',ylabel='Store')\n"
   ]
  },
  {
   "cell_type": "code",
   "execution_count": 34,
   "metadata": {},
   "outputs": [
    {
     "data": {
      "text/plain": [
       "[Text(33.0, 0.5, 'Store'), Text(0.5, 15.0, 'Weekend')]"
      ]
     },
     "execution_count": 34,
     "metadata": {},
     "output_type": "execute_result"
    },
    {
     "data": {
      "image/png": "[encoded data removed]",
      "text/plain": [
       "<Figure size 432x288 with 2 Axes>"
      ]
     },
     "metadata": {
      "needs_background": "light"
     },
     "output_type": "display_data"
    }
   ],
   "source": [
    "#plot average daily sales (item counts) on weekend vs weekdays\n",
    "wkndsales_by_store = df_dailysales.pivot_table(index='shop_id', columns='weekend', values='sum_item_cnt', aggfunc='mean')\n",
    "\n",
    "ax= sns.heatmap(wkndsales_by_store,cmap=\"YlGnBu\")\n",
    "ax.set_title(\"Average daily item sold: weekend vs weekday\")\n",
    "ax.set(xlabel='Weekend',ylabel='Store')\n"
   ]
  },
  {
   "cell_type": "code",
   "execution_count": 35,
   "metadata": {},
   "outputs": [
    {
     "data": {
      "text/plain": [
       "[Text(33.0, 0.5, 'Store'), Text(0.5, 15.0, 'Weekend')]"
      ]
     },
     "execution_count": 35,
     "metadata": {},
     "output_type": "execute_result"
    },
    {
     "data": {
      "image/png": "[encoded data removed]",
      "text/plain": [
       "<Figure size 432x288 with 2 Axes>"
      ]
     },
     "metadata": {
      "needs_background": "light"
     },
     "output_type": "display_data"
    }
   ],
   "source": [
    "#plot Average daily revenue on weekend vs. weekdays \n",
    "wkndrevenue_by_store = df_dailysales.pivot_table(index='shop_id', columns='weekend', values='sum_revenue', aggfunc='mean')\n",
    "\n",
    "ax=sns.heatmap(wkndrevenue_by_store,cmap=\"YlGnBu\")\n",
    "ax.set_title(\"Average daily revenue: weekend vs weekday\")\n",
    "ax.set(xlabel='Weekend',ylabel='Store')\n"
   ]
  },
  {
   "cell_type": "code",
   "execution_count": 36,
   "metadata": {},
   "outputs": [],
   "source": [
    "# get price history (discount)\n",
    "df_pricehist = df_sales.groupby(['shop_id','item_id'],\\\n",
    "                                as_index=False).agg({'item_price':[np.min,np.max,np.median]})\n",
    "df_pricehist.columns = ['shop_id','item_id','item_price_min','item_price_max','item_price_median']\n",
    "\n",
    "\n",
    "df_sales = pd.merge(df_sales, df_pricehist, left_on=['item_id','shop_id'], \\\n",
    "                    right_on=['item_id','shop_id'], how='left')"
   ]
  },
  {
   "cell_type": "code",
   "execution_count": null,
   "metadata": {},
   "outputs": [],
   "source": [
    "################ feature engineering ##########################################################"
   ]
  },
  {
   "cell_type": "code",
   "execution_count": null,
   "metadata": {},
   "outputs": [],
   "source": [
    "########### feature (for each store)\n",
    "# average monthly total sale \n",
    "# avg. monthly sale by category\n",
    "# past month sale by item(?) (M-1; M-2; M-3; M-12)\n",
    "# past month sale by category(?) (M-1; M-2; M-3; M-12)\n",
    "# %price (due to discount) \n",
    "# number of holidays"
   ]
  },
  {
   "cell_type": "code",
   "execution_count": 37,
   "metadata": {},
   "outputs": [],
   "source": [
    "# create monthly sales data frame (to use in model building)\n",
    "df_monthlysales = df_sales.groupby(['shop_id','item_id','date_block_num'], as_index=False).agg({'item_cnt_day':['sum','mean'],'item_price':[np.median],'revenue':['sum']})\n",
    "df_monthlysales.columns = ['shop_id','item_id','date_block_num','monthsum_item_cnt','monthmean_item_cnt','monthmedian_item_price','monthsum_revenue']"
   ]
  },
  {
   "cell_type": "code",
   "execution_count": 38,
   "metadata": {},
   "outputs": [],
   "source": [
    "# get price change from previous month (median)\n",
    "previous_month = [1, 2, 3]\n",
    "\n",
    "for m in previous_month:\n",
    "    feature = ('m-%s_monthsum_item_cnt' % m)\n",
    "    df_monthlysales[feature] = df_monthlysales.sort_values('date_block_num').groupby(['shop_id','item_id'])['monthsum_item_cnt'].shift(m)\n",
    "    df_monthlysales[feature].fillna(0, inplace=True)\n",
    "\n",
    "df_monthlysales['medianprice_dif_m-1'] = df_monthlysales['monthmedian_item_price']\n",
    "df_monthlysales['medianprice_dif_m-1'] -= df_monthlysales.sort_values('date_block_num').groupby(['shop_id','item_id'])['monthmedian_item_price'].shift(1)\n",
    "df_monthlysales['medianprice_dif_m-1'].fillna(0, inplace=True)"
   ]
  },
  {
   "cell_type": "code",
   "execution_count": 39,
   "metadata": {},
   "outputs": [
    {
     "data": {
      "text/html": [
       "<div>\n",
       "<style scoped>\n",
       "    .dataframe tbody tr th:only-of-type {\n",
       "        vertical-align: middle;\n",
       "    }\n",
       "\n",
       "    .dataframe tbody tr th {\n",
       "        vertical-align: top;\n",
       "    }\n",
       "\n",
       "    .dataframe thead th {\n",
       "        text-align: right;\n",
       "    }\n",
       "</style>\n",
       "<table border=\"1\" class=\"dataframe\">\n",
       "  <thead>\n",
       "    <tr style=\"text-align: right;\">\n",
       "      <th></th>\n",
       "      <th>shop_id</th>\n",
       "      <th>item_id</th>\n",
       "      <th>date_block_num</th>\n",
       "      <th>monthsum_item_cnt</th>\n",
       "      <th>monthmean_item_cnt</th>\n",
       "      <th>monthmedian_item_price</th>\n",
       "      <th>monthsum_revenue</th>\n",
       "      <th>m-1_monthsum_item_cnt</th>\n",
       "      <th>m-2_monthsum_item_cnt</th>\n",
       "      <th>m-3_monthsum_item_cnt</th>\n",
       "      <th>medianprice_dif_m-1</th>\n",
       "    </tr>\n",
       "  </thead>\n",
       "  <tbody>\n",
       "    <tr>\n",
       "      <td>0</td>\n",
       "      <td>2</td>\n",
       "      <td>30</td>\n",
       "      <td>2</td>\n",
       "      <td>1.0</td>\n",
       "      <td>1.0</td>\n",
       "      <td>359.0</td>\n",
       "      <td>359.0</td>\n",
       "      <td>0.0</td>\n",
       "      <td>0.0</td>\n",
       "      <td>0.0</td>\n",
       "      <td>0.0</td>\n",
       "    </tr>\n",
       "    <tr>\n",
       "      <td>1</td>\n",
       "      <td>2</td>\n",
       "      <td>30</td>\n",
       "      <td>5</td>\n",
       "      <td>1.0</td>\n",
       "      <td>1.0</td>\n",
       "      <td>399.0</td>\n",
       "      <td>399.0</td>\n",
       "      <td>1.0</td>\n",
       "      <td>0.0</td>\n",
       "      <td>0.0</td>\n",
       "      <td>40.0</td>\n",
       "    </tr>\n",
       "    <tr>\n",
       "      <td>2</td>\n",
       "      <td>2</td>\n",
       "      <td>30</td>\n",
       "      <td>15</td>\n",
       "      <td>1.0</td>\n",
       "      <td>1.0</td>\n",
       "      <td>169.0</td>\n",
       "      <td>169.0</td>\n",
       "      <td>1.0</td>\n",
       "      <td>1.0</td>\n",
       "      <td>0.0</td>\n",
       "      <td>-230.0</td>\n",
       "    </tr>\n",
       "    <tr>\n",
       "      <td>3</td>\n",
       "      <td>2</td>\n",
       "      <td>30</td>\n",
       "      <td>16</td>\n",
       "      <td>1.0</td>\n",
       "      <td>1.0</td>\n",
       "      <td>169.0</td>\n",
       "      <td>169.0</td>\n",
       "      <td>1.0</td>\n",
       "      <td>1.0</td>\n",
       "      <td>1.0</td>\n",
       "      <td>0.0</td>\n",
       "    </tr>\n",
       "    <tr>\n",
       "      <td>4</td>\n",
       "      <td>2</td>\n",
       "      <td>31</td>\n",
       "      <td>1</td>\n",
       "      <td>4.0</td>\n",
       "      <td>1.0</td>\n",
       "      <td>699.0</td>\n",
       "      <td>2796.0</td>\n",
       "      <td>0.0</td>\n",
       "      <td>0.0</td>\n",
       "      <td>0.0</td>\n",
       "      <td>0.0</td>\n",
       "    </tr>\n",
       "  </tbody>\n",
       "</table>\n",
       "</div>"
      ],
      "text/plain": [
       "   shop_id  item_id  date_block_num  monthsum_item_cnt  monthmean_item_cnt  \\\n",
       "0        2       30               2                1.0                 1.0   \n",
       "1        2       30               5                1.0                 1.0   \n",
       "2        2       30              15                1.0                 1.0   \n",
       "3        2       30              16                1.0                 1.0   \n",
       "4        2       31               1                4.0                 1.0   \n",
       "\n",
       "   monthmedian_item_price  monthsum_revenue  m-1_monthsum_item_cnt  \\\n",
       "0                   359.0             359.0                    0.0   \n",
       "1                   399.0             399.0                    1.0   \n",
       "2                   169.0             169.0                    1.0   \n",
       "3                   169.0             169.0                    1.0   \n",
       "4                   699.0            2796.0                    0.0   \n",
       "\n",
       "   m-2_monthsum_item_cnt  m-3_monthsum_item_cnt  medianprice_dif_m-1  \n",
       "0                    0.0                    0.0                  0.0  \n",
       "1                    0.0                    0.0                 40.0  \n",
       "2                    1.0                    0.0               -230.0  \n",
       "3                    1.0                    1.0                  0.0  \n",
       "4                    0.0                    0.0                  0.0  "
      ]
     },
     "execution_count": 39,
     "metadata": {},
     "output_type": "execute_result"
    }
   ],
   "source": [
    "df_monthlysales.head()"
   ]
  },
  {
   "cell_type": "code",
   "execution_count": 40,
   "metadata": {},
   "outputs": [],
   "source": [
    "# add monthly total sales (item_cnt/revenue)\n",
    "df_monthlyshopsales = df_monthlysales.groupby(['shop_id','date_block_num'], \\\n",
    "                                              as_index=False).agg({'monthsum_item_cnt':['sum'],'monthsum_revenue':['sum']})\n",
    "df_monthlyshopsales.columns = ['shop_id','date_block_num','monthsum_totalitem_cnt','monthsum_totalrevenue']\n",
    "\n",
    "df_monthlysales = pd.merge(df_monthlysales, df_monthlyshopsales, how='left', \\\n",
    "                           on = ['shop_id','date_block_num'])\n"
   ]
  },
  {
   "cell_type": "code",
   "execution_count": 41,
   "metadata": {},
   "outputs": [],
   "source": [
    "# add number of total/holiday/weekend days in each month (date_block_num) \n",
    "df_daycount = df_calendar.groupby(['year','month'], as_index=False\\\n",
    "                                 ).agg({'date':['count'], 'holiday':['sum'],'weekend':['sum']})\n",
    "df_daycount.columns = ['year', 'month', 'numdays', 'numholidays','numweekends']\n",
    "\n",
    "df_daycount = pd.merge(df_daycount, df_sales[['year','month','date_block_num']], how='inner', \\\n",
    "                       on = ['year','month'])\n",
    "df_daycount = df_daycount.drop_duplicates().reset_index(drop=True)\n",
    "df_monthlysales = pd.merge(df_monthlysales, \\\n",
    "                           df_daycount[['date_block_num','numdays','numholidays','numweekends','year','month']],\\\n",
    "                           how ='left', on = 'date_block_num')"
   ]
  },
  {
   "cell_type": "code",
   "execution_count": 42,
   "metadata": {},
   "outputs": [],
   "source": [
    "# add item category info and shop info to df_monthlysales (before one hot encoding)\n",
    "df_monthlysales = pd.merge(df_monthlysales, df_itemtln[['item_id','item_category_id','item_cat1','item_cat2']],\\\n",
    "                           how='left', on='item_id')\n",
    "df_monthlysales = pd.merge(df_monthlysales, df_shop[['shop_id','City','Type']], how='left', \\\n",
    "                           on='shop_id')\n"
   ]
  },
  {
   "cell_type": "code",
   "execution_count": 43,
   "metadata": {},
   "outputs": [],
   "source": [
    "# one hot encoding for (item_category_id, item_cat1, item_cat2, City, Type, month, year) \n",
    "for col in ['year','month','item_category_id','item_cat1','item_cat2','City','Type'] :\n",
    "    df_monthlysales[col] = pd.Categorical(df_monthlysales[col])\n",
    "    df_dummy = pd.get_dummies(df_monthlysales[col], prefix = col)\n",
    "    df_monthlysales = pd.concat([df_monthlysales, df_dummy], axis=1)\n"
   ]
  },
  {
   "cell_type": "code",
   "execution_count": 44,
   "metadata": {},
   "outputs": [
    {
     "name": "stdout",
     "output_type": "stream",
     "text": [
      "(600159, 185)\n"
     ]
    }
   ],
   "source": [
    "#clean up monthlysales data frame (drop columns)\n",
    "df_monthlysales = df_monthlysales.drop(['year','month','item_category_id','item_cat1','item_cat2','City','Type'], axis=1)\n",
    "print(df_monthlysales.shape)"
   ]
  },
  {
   "cell_type": "code",
   "execution_count": 45,
   "metadata": {},
   "outputs": [
    {
     "data": {
      "text/plain": [
       "33"
      ]
     },
     "execution_count": 45,
     "metadata": {},
     "output_type": "execute_result"
    }
   ],
   "source": [
    "df_monthlysales['date_block_num'].max()"
   ]
  },
  {
   "cell_type": "code",
   "execution_count": 46,
   "metadata": {},
   "outputs": [],
   "source": [
    "####################### model training, valudation, and prediction #############################\n",
    "\n",
    "# get training, validation set, and test set\n",
    "X_train = df_monthlysales[df_monthlysales['date_block_num'] < 31].drop(['monthsum_item_cnt',], axis=1)\n",
    "Y_train = df_monthlysales[df_monthlysales['date_block_num'] < 31]['monthsum_item_cnt']\n",
    "X_valid = df_monthlysales[df_monthlysales['date_block_num'] == 31].drop(['monthsum_item_cnt'], axis=1)\n",
    "Y_valid = df_monthlysales[df_monthlysales['date_block_num'] == 31]['monthsum_item_cnt']\n",
    "X_test = df_monthlysales[df_monthlysales['date_block_num'] == 32].drop(['monthsum_item_cnt'], axis=1)\n"
   ]
  },
  {
   "cell_type": "code",
   "execution_count": 48,
   "metadata": {},
   "outputs": [
    {
     "name": "stdout",
     "output_type": "stream",
     "text": [
      "[0]\tvalidation_0-rmse:9.79177\tvalidation_1-rmse:4.49475\n",
      "Multiple eval metrics have been passed: 'validation_1-rmse' will be used for early stopping.\n",
      "\n",
      "Will train until validation_1-rmse hasn't improved in 10 rounds.\n",
      "[1]\tvalidation_0-rmse:8.45399\tvalidation_1-rmse:3.51925\n",
      "[2]\tvalidation_0-rmse:7.69524\tvalidation_1-rmse:3.07237\n",
      "[3]\tvalidation_0-rmse:7.12267\tvalidation_1-rmse:2.58189\n",
      "[4]\tvalidation_0-rmse:6.76317\tvalidation_1-rmse:2.27522\n",
      "[5]\tvalidation_0-rmse:6.49707\tvalidation_1-rmse:2.13270\n",
      "[6]\tvalidation_0-rmse:6.37041\tvalidation_1-rmse:2.02310\n",
      "[7]\tvalidation_0-rmse:6.20095\tvalidation_1-rmse:2.02153\n",
      "[8]\tvalidation_0-rmse:6.07964\tvalidation_1-rmse:2.07917\n",
      "[9]\tvalidation_0-rmse:5.99486\tvalidation_1-rmse:2.15732\n",
      "[10]\tvalidation_0-rmse:5.80559\tvalidation_1-rmse:2.05369\n",
      "[11]\tvalidation_0-rmse:5.71198\tvalidation_1-rmse:2.01800\n",
      "[12]\tvalidation_0-rmse:5.62524\tvalidation_1-rmse:2.03839\n",
      "[13]\tvalidation_0-rmse:5.59978\tvalidation_1-rmse:1.99550\n",
      "[14]\tvalidation_0-rmse:5.55068\tvalidation_1-rmse:1.93796\n",
      "[15]\tvalidation_0-rmse:5.47369\tvalidation_1-rmse:1.82899\n",
      "[16]\tvalidation_0-rmse:5.33915\tvalidation_1-rmse:1.71298\n",
      "[17]\tvalidation_0-rmse:5.28988\tvalidation_1-rmse:1.73991\n",
      "[18]\tvalidation_0-rmse:5.24320\tvalidation_1-rmse:1.78702\n",
      "[19]\tvalidation_0-rmse:5.17212\tvalidation_1-rmse:1.80218\n",
      "[20]\tvalidation_0-rmse:5.13265\tvalidation_1-rmse:1.79461\n",
      "[21]\tvalidation_0-rmse:5.08835\tvalidation_1-rmse:1.72176\n",
      "[22]\tvalidation_0-rmse:5.07884\tvalidation_1-rmse:1.73951\n",
      "[23]\tvalidation_0-rmse:5.06281\tvalidation_1-rmse:1.68563\n",
      "[24]\tvalidation_0-rmse:5.02304\tvalidation_1-rmse:1.70818\n",
      "[25]\tvalidation_0-rmse:4.99573\tvalidation_1-rmse:1.65972\n",
      "[26]\tvalidation_0-rmse:4.95720\tvalidation_1-rmse:1.64037\n",
      "[27]\tvalidation_0-rmse:4.93084\tvalidation_1-rmse:1.68479\n",
      "[28]\tvalidation_0-rmse:4.89659\tvalidation_1-rmse:1.63477\n",
      "[29]\tvalidation_0-rmse:4.88670\tvalidation_1-rmse:1.65438\n",
      "[30]\tvalidation_0-rmse:4.86029\tvalidation_1-rmse:1.68542\n",
      "[31]\tvalidation_0-rmse:4.84169\tvalidation_1-rmse:1.71664\n",
      "[32]\tvalidation_0-rmse:4.82858\tvalidation_1-rmse:1.74069\n",
      "[33]\tvalidation_0-rmse:4.76828\tvalidation_1-rmse:1.66452\n",
      "[34]\tvalidation_0-rmse:4.75452\tvalidation_1-rmse:1.62747\n",
      "[35]\tvalidation_0-rmse:4.72930\tvalidation_1-rmse:1.63366\n",
      "[36]\tvalidation_0-rmse:4.64154\tvalidation_1-rmse:1.56431\n",
      "[37]\tvalidation_0-rmse:4.61603\tvalidation_1-rmse:1.61706\n",
      "[38]\tvalidation_0-rmse:4.59983\tvalidation_1-rmse:1.62437\n",
      "[39]\tvalidation_0-rmse:4.58082\tvalidation_1-rmse:1.65185\n",
      "[40]\tvalidation_0-rmse:4.56997\tvalidation_1-rmse:1.67011\n",
      "[41]\tvalidation_0-rmse:4.53512\tvalidation_1-rmse:1.65415\n",
      "[42]\tvalidation_0-rmse:4.51422\tvalidation_1-rmse:1.64459\n",
      "[43]\tvalidation_0-rmse:4.50380\tvalidation_1-rmse:1.61071\n",
      "[44]\tvalidation_0-rmse:4.48634\tvalidation_1-rmse:1.62622\n",
      "[45]\tvalidation_0-rmse:4.47711\tvalidation_1-rmse:1.64167\n",
      "[46]\tvalidation_0-rmse:4.46205\tvalidation_1-rmse:1.65136\n",
      "Stopping. Best iteration:\n",
      "[36]\tvalidation_0-rmse:4.64154\tvalidation_1-rmse:1.56431\n",
      "\n"
     ]
    },
    {
     "data": {
      "text/plain": [
       "XGBRegressor(base_score=0.5, booster=None, colsample_bylevel=1,\n",
       "             colsample_bynode=1, colsample_bytree=0.8, eta=0.3, gamma=0,\n",
       "             gpu_id=-1, importance_type='gain', interaction_constraints=None,\n",
       "             learning_rate=0.300000012, max_delta_step=0, max_depth=8,\n",
       "             min_child_weight=300, missing=nan, monotone_constraints=None,\n",
       "             n_estimators=1000, n_jobs=0, num_parallel_tree=1,\n",
       "             objective='reg:squarederror', random_state=42, reg_alpha=0,\n",
       "             reg_lambda=1, scale_pos_weight=1, seed=42, subsample=0.8,\n",
       "             tree_method=None, validate_parameters=False, verbosity=None)"
      ]
     },
     "execution_count": 48,
     "metadata": {},
     "output_type": "execute_result"
    }
   ],
   "source": [
    "# build model using XGBRegressor\n",
    "\n",
    "model = xgb.XGBRegressor(\n",
    "    max_depth=8,\n",
    "    n_estimators=1000,\n",
    "    min_child_weight=300, \n",
    "    colsample_bytree=0.8, \n",
    "    subsample=0.8, \n",
    "    eta=0.3,    \n",
    "    seed=42)\n",
    "\n",
    "model.fit(\n",
    "    X_train, \n",
    "    Y_train, \n",
    "    eval_metric=\"rmse\", \n",
    "    eval_set=[(X_train, Y_train), (X_valid, Y_valid)], \n",
    "    verbose=True, \n",
    "    early_stopping_rounds = 10)\n"
   ]
  },
  {
   "cell_type": "code",
   "execution_count": 49,
   "metadata": {},
   "outputs": [],
   "source": [
    "# compute predicted sales for valudation set\n",
    "Y_pred = model.predict(X_valid)"
   ]
  },
  {
   "cell_type": "code",
   "execution_count": 50,
   "metadata": {},
   "outputs": [
    {
     "data": {
      "text/plain": [
       "Text(0.5, 1.0, 'Validation set prediction vs actual values')"
      ]
     },
     "execution_count": 50,
     "metadata": {},
     "output_type": "execute_result"
    },
    {
     "data": {
      "image/png": "[encoded data removed]",
      "text/plain": [
       "<Figure size 432x288 with 1 Axes>"
      ]
     },
     "metadata": {
      "needs_background": "light"
     },
     "output_type": "display_data"
    }
   ],
   "source": [
    "#plot predicted value vs actual sales value for validation set\n",
    "plt.scatter(Y_valid, Y_pred)\n",
    "plt.xlabel('Actual sales')\n",
    "plt.ylabel('Predicted sales')\n",
    "plt.title('Validation set prediction vs actual values')\n",
    "#plt.scatter(Y_valid[Y_valid<=20], Y_pred[Y_valid<=20])"
   ]
  },
  {
   "cell_type": "code",
   "execution_count": 51,
   "metadata": {},
   "outputs": [
    {
     "data": {
      "text/plain": [
       "1.564309669744066"
      ]
     },
     "execution_count": 51,
     "metadata": {},
     "output_type": "execute_result"
    }
   ],
   "source": [
    "#compute root mean square error for validation set\n",
    "rms_valid = sqrt(mean_squared_error(Y_valid, Y_pred))\n",
    "rms_valid"
   ]
  },
  {
   "cell_type": "code",
   "execution_count": 52,
   "metadata": {},
   "outputs": [],
   "source": [
    "#compute prediction for test set\n",
    "Y_submission = model.predict(X_test)\n"
   ]
  },
  {
   "cell_type": "code",
   "execution_count": 53,
   "metadata": {},
   "outputs": [
    {
     "data": {
      "text/plain": [
       "Text(0.5, 1.0, 'Test set prediction vs actual values')"
      ]
     },
     "execution_count": 53,
     "metadata": {},
     "output_type": "execute_result"
    },
    {
     "data": {
      "image/png": "[encoded data removed]",
      "text/plain": [
       "<Figure size 432x288 with 1 Axes>"
      ]
     },
     "metadata": {
      "needs_background": "light"
     },
     "output_type": "display_data"
    }
   ],
   "source": [
    "#plot predicted values vs. actual sales values for test set\n",
    "Y_test = df_monthlysales[df_monthlysales['date_block_num'] == 32]['monthsum_item_cnt']\n",
    "plt.scatter(Y_test, Y_submission)\n",
    "plt.xlabel('Actual sales')\n",
    "plt.ylabel('Predicted sales')\n",
    "plt.title('Test set prediction vs actual values')"
   ]
  },
  {
   "cell_type": "code",
   "execution_count": 54,
   "metadata": {},
   "outputs": [
    {
     "data": {
      "text/plain": [
       "2.5252566391260767"
      ]
     },
     "execution_count": 54,
     "metadata": {},
     "output_type": "execute_result"
    }
   ],
   "source": [
    "#compute root mean square error for test set prediction\n",
    "rms_submission = sqrt(mean_squared_error(Y_test, Y_submission))\n",
    "rms_submission"
   ]
  }
 ],
 "metadata": {
  "kernelspec": {
   "display_name": "Python 3",
   "language": "python",
   "name": "python3"
  },
  "language_info": {
   "codemirror_mode": {
    "name": "ipython",
    "version": 3
   },
   "file_extension": ".py",
   "mimetype": "text/x-python",
   "name": "python",
   "nbconvert_exporter": "python",
   "pygments_lexer": "ipython3",
   "version": "3.7.4"
  }
 },
 "nbformat": 4,
 "nbformat_minor": 2
}
