{
 "cells": [
  {
   "cell_type": "code",
   "execution_count": 3,
   "metadata": {},
   "outputs": [],
   "source": [
    "import pyspark \n",
    "from pyspark.context import SparkContext\n",
    "from pyspark.sql.session import SparkSession\n",
    "\n",
    "sc = SparkContext.getOrCreate()\n",
    "spark = SparkSession(sc)"
   ]
  },
  {
   "cell_type": "code",
   "execution_count": 4,
   "metadata": {},
   "outputs": [],
   "source": [
    "from pyspark.sql.functions import col, count\n",
    "import pyspark.sql.functions as f\n",
    "from pyspark.sql import SQLContext"
   ]
  },
  {
   "cell_type": "code",
   "execution_count": 4,
   "metadata": {},
   "outputs": [
    {
     "name": "stdout",
     "output_type": "stream",
     "text": [
      "root\n",
      " |-- SchoolYear: string (nullable = true)\n",
      " |-- OrganizationLevel: string (nullable = true)\n",
      " |-- County: string (nullable = true)\n",
      " |-- ESDName: string (nullable = true)\n",
      " |-- ESDOrganizationID: integer (nullable = true)\n",
      " |-- DistrictCode: integer (nullable = true)\n",
      " |-- DistrictName: string (nullable = true)\n",
      " |-- DistrictOrganizationId: integer (nullable = true)\n",
      " |-- SchoolCode: integer (nullable = true)\n",
      " |-- SchoolName: string (nullable = true)\n",
      " |-- SchoolOrganizationid: integer (nullable = true)\n",
      " |-- CurrentSchoolType: string (nullable = true)\n",
      " |-- Gradelevel: string (nullable = true)\n",
      " |-- All Students: integer (nullable = true)\n",
      " |-- Female: integer (nullable = true)\n",
      " |-- Male: integer (nullable = true)\n",
      " |-- Gender X: integer (nullable = true)\n",
      " |-- American Indian/ Alaskan Native: integer (nullable = true)\n",
      " |-- Asian: integer (nullable = true)\n",
      " |-- Black/ African American: integer (nullable = true)\n",
      " |-- Hispanic/ Latino of any race(s): integer (nullable = true)\n",
      " |-- Native Hawaiian/ Other Pacific Islander: integer (nullable = true)\n",
      " |-- Two or More Races: integer (nullable = true)\n",
      " |-- White: integer (nullable = true)\n",
      " |-- English Language Learners: integer (nullable = true)\n",
      " |-- Foster Care: integer (nullable = true)\n",
      " |-- Homeless: integer (nullable = true)\n",
      " |-- Low-Income: integer (nullable = true)\n",
      " |-- Migrant: integer (nullable = true)\n",
      " |-- Military Parent: integer (nullable = true)\n",
      " |-- Mobile: integer (nullable = true)\n",
      " |-- Section 504: integer (nullable = true)\n",
      " |-- Students with Disabilities: integer (nullable = true)\n",
      " |-- Non-English Language Learners: integer (nullable = true)\n",
      " |-- Non-Foster Care: integer (nullable = true)\n",
      " |-- Non-Homeless: integer (nullable = true)\n",
      " |-- Non-Low Income: integer (nullable = true)\n",
      " |-- Non Migrant: integer (nullable = true)\n",
      " |-- Non Military Parent: integer (nullable = true)\n",
      " |-- Non Mobile: integer (nullable = true)\n",
      " |-- Non Section 504: integer (nullable = true)\n",
      " |-- Students without Disabilities: integer (nullable = true)\n",
      " |-- DataAsOf: string (nullable = true)\n",
      "\n"
     ]
    }
   ],
   "source": [
    "### read in WA state school enrollment file\n",
    "df = spark.read.format(\"csv\").option(\"inferSchema\",True).option(\"header\",True).load(\"Report_Card_Enrollment_from_2014-15_to_Current_Year.csv\")\n",
    "\n",
    "#look at name and data types for each column\n",
    "df.printSchema()"
   ]
  },
  {
   "cell_type": "code",
   "execution_count": 7,
   "metadata": {},
   "outputs": [
    {
     "name": "stdout",
     "output_type": "stream",
     "text": [
      "+----------+-----------------+--------+-----------+-----------------+------------+------------+----------------------+----------+-----------+--------------------+-----------------+----------+------------+------+-----+--------+-------------------------------+-----+-----------------------+-------------------------------+---------------------------------------+-----------------+-----+-------------------------+-----------+--------+----------+-------+---------------+------+-----------+--------------------------+-----------------------------+---------------+------------+--------------+-----------+-------------------+----------+---------------+-----------------------------+--------------------+\n",
      "|SchoolYear|OrganizationLevel|  County|    ESDName|ESDOrganizationID|DistrictCode|DistrictName|DistrictOrganizationId|SchoolCode| SchoolName|SchoolOrganizationid|CurrentSchoolType|Gradelevel|All Students|Female| Male|Gender X|American Indian/ Alaskan Native|Asian|Black/ African American|Hispanic/ Latino of any race(s)|Native Hawaiian/ Other Pacific Islander|Two or More Races|White|English Language Learners|Foster Care|Homeless|Low-Income|Migrant|Military Parent|Mobile|Section 504|Students with Disabilities|Non-English Language Learners|Non-Foster Care|Non-Homeless|Non-Low Income|Non Migrant|Non Military Parent|Non Mobile|Non Section 504|Students without Disabilities|            DataAsOf|\n",
      "+----------+-----------------+--------+-----------+-----------------+------------+------------+----------------------+----------+-----------+--------------------+-----------------+----------+------------+------+-----+--------+-------------------------------+-----+-----------------------+-------------------------------+---------------------------------------+-----------------+-----+-------------------------+-----------+--------+----------+-------+---------------+------+-----------+--------------------------+-----------------------------+---------------+------------+--------------+-----------+-------------------+----------+---------------+-----------------------------+--------------------+\n",
      "|   2019-20|            State|Multiple|State Total|             null|        null| State Total|                  null|      null|State Total|                null|             null|10th Grade|       84690| 41154|43397|     139|                           1117| 7082|                   3680|                          19862|                                    981|             6419|45541|                     7594|        427|    1854|     36377|   1789|           1459|  2191|       4964|                     10161|                        77096|          84263|       82836|         48313|      82901|              83231|     82499|          79726|                        74529|02/11/2020 12:00:...|\n",
      "|   2018-19|            State|Multiple|State Total|             null|        null| State Total|                  null|      null|State Total|                null|             null|10th Grade|       83454| 40609|42756|      89|                           1114| 6775|                   3636|                          18848|                                    942|             6171|45962|                     6584|        432|    2136|     35948|   1652|           1362|  4785|       5268|                     10339|                        76870|          83022|       81318|         47506|      81802|              82092|     78669|          78186|                        73115|02/11/2020 12:00:...|\n",
      "|   2017-18|            State|Multiple|State Total|             null|        null| State Total|                  null|      null|State Total|                null|             null|10th Grade|       82331| 40159|42172|    null|                           1151| 6595|                   3681|                          17989|                                    898|             5864|46132|                     6174|        420|    2269|     35820|   1684|           1023|  5173|       4821|                      9887|                        76157|          81911|       80062|         46511|      80647|              81308|     77158|          77510|                        72444|02/11/2020 12:00:...|\n",
      "+----------+-----------------+--------+-----------+-----------------+------------+------------+----------------------+----------+-----------+--------------------+-----------------+----------+------------+------+-----+--------+-------------------------------+-----+-----------------------+-------------------------------+---------------------------------------+-----------------+-----+-------------------------+-----------+--------+----------+-------+---------------+------+-----------+--------------------------+-----------------------------+---------------+------------+--------------+-----------+-------------------+----------+---------------+-----------------------------+--------------------+\n",
      "\n"
     ]
    }
   ],
   "source": [
    "#look at sample rows of data\n",
    "df.limit(3).show(truncate=True)"
   ]
  },
  {
   "cell_type": "code",
   "execution_count": 8,
   "metadata": {},
   "outputs": [
    {
     "name": "stdout",
     "output_type": "stream",
     "text": [
      "+-----------------+\n",
      "|OrganizationLevel|\n",
      "+-----------------+\n",
      "|           School|\n",
      "|            State|\n",
      "|         District|\n",
      "+-----------------+\n",
      "\n"
     ]
    }
   ],
   "source": [
    "# get unique column values\n",
    "df.select(\"OrganizationLevel\").distinct().show()"
   ]
  },
  {
   "cell_type": "code",
   "execution_count": 9,
   "metadata": {},
   "outputs": [
    {
     "name": "stdout",
     "output_type": "stream",
     "text": [
      "+--------------------+\n",
      "|          Gradelevel|\n",
      "+--------------------+\n",
      "|           7th Grade|\n",
      "|           6th Grade|\n",
      "|           3rd Grade|\n",
      "|           2nd Grade|\n",
      "|          12th Grade|\n",
      "|           1st Grade|\n",
      "|           5th Grade|\n",
      "|          11th Grade|\n",
      "|           9th Grade|\n",
      "|Half-day Kinderga...|\n",
      "|          10th Grade|\n",
      "|           8th Grade|\n",
      "|    Pre-Kindergarten|\n",
      "|           AllGrades|\n",
      "|        Kindergarten|\n",
      "|           4th Grade|\n",
      "+--------------------+\n",
      "\n"
     ]
    }
   ],
   "source": [
    "# get unique column values\n",
    "df.select(\"Gradelevel\").distinct().show()"
   ]
  },
  {
   "cell_type": "code",
   "execution_count": 10,
   "metadata": {},
   "outputs": [
    {
     "name": "stdout",
     "output_type": "stream",
     "text": [
      "+----------+\n",
      "|SchoolYear|\n",
      "+----------+\n",
      "|   2016-17|\n",
      "|   2015-16|\n",
      "|   2014-15|\n",
      "|   2018-19|\n",
      "|   2019-20|\n",
      "|   2017-18|\n",
      "+----------+\n",
      "\n"
     ]
    }
   ],
   "source": [
    "# get unique column values\n",
    "df.select(\"SchoolYear\").distinct().show()"
   ]
  },
  {
   "cell_type": "code",
   "execution_count": 12,
   "metadata": {},
   "outputs": [
    {
     "data": {
      "text/plain": [
       "<matplotlib.axes._subplots.AxesSubplot at 0x281f48ff388>"
      ]
     },
     "execution_count": 12,
     "metadata": {},
     "output_type": "execute_result"
    },
    {
     "data": {
      "image/png": "[encoded data removed]",
      "text/plain": [
       "<Figure size 432x288 with 1 Axes>"
      ]
     },
     "metadata": {
      "needs_background": "light"
     },
     "output_type": "display_data"
    }
   ],
   "source": [
    "#get number of schools in each school district\n",
    "numSchool = df.filter((df.SchoolYear=='2018-19') & \\\n",
    "                      (df.Gradelevel=='AllGrades') & \\\n",
    "                      (df.OrganizationLevel=='School')).\\\n",
    "             groupBy(col(\"DistrictName\")).count().\\\n",
    "             select(\"DistrictName\",col('count').alias(\"numberOfSchools\")) \n",
    "\n",
    "numSchool.toPandas().plot(kind='hist')"
   ]
  },
  {
   "cell_type": "code",
   "execution_count": 13,
   "metadata": {},
   "outputs": [
    {
     "name": "stdout",
     "output_type": "stream",
     "text": [
      "+--------------------+---------------+\n",
      "|        DistrictName|numberOfSchools|\n",
      "+--------------------+---------------+\n",
      "|Seattle School Di...|            107|\n",
      "|Tacoma School Dis...|             62|\n",
      "|Spokane School Di...|             61|\n",
      "|Lake Washington S...|             55|\n",
      "|Federal Way Schoo...|             46|\n",
      "|Kent School District|             44|\n",
      "|Vancouver School ...|             40|\n",
      "|Edmonds School Di...|             38|\n",
      "|Evergreen School ...|             37|\n",
      "|Puyallup School D...|             36|\n",
      "|Northshore School...|             36|\n",
      "|Highline School D...|             34|\n",
      "|Clover Park Schoo...|             33|\n",
      "|Bellevue School D...|             31|\n",
      "|Kennewick School ...|             31|\n",
      "|Bethel School Dis...|             31|\n",
      "|Everett School Di...|             30|\n",
      "|Central Valley Sc...|             29|\n",
      "|Renton School Dis...|             29|\n",
      "|Issaquah School D...|             27|\n",
      "+--------------------+---------------+\n",
      "only showing top 20 rows\n",
      "\n"
     ]
    }
   ],
   "source": [
    "#get a list of school districts with higher number of schools\n",
    "numSchool.sort('numberOfSchools',ascending=False).show()"
   ]
  },
  {
   "cell_type": "code",
   "execution_count": 14,
   "metadata": {},
   "outputs": [
    {
     "data": {
      "text/plain": [
       "<matplotlib.axes._subplots.AxesSubplot at 0x281f4eff988>"
      ]
     },
     "execution_count": 14,
     "metadata": {},
     "output_type": "execute_result"
    },
    {
     "data": {
      "image/png": "[encoded data removed]",
      "text/plain": [
       "<Figure size 432x288 with 1 Axes>"
      ]
     },
     "metadata": {
      "needs_background": "light"
     },
     "output_type": "display_data"
    }
   ],
   "source": [
    "#get average number of students per school for each school district\n",
    "numStudents = df.filter((df.SchoolYear=='2018-19') & \\\n",
    "                      (df.Gradelevel=='AllGrades') & \\\n",
    "                      (df.OrganizationLevel=='School')).\\\n",
    "             groupBy(col(\"DistrictName\")).avg('All Students').alias(\"Average Number of Students\").\\\n",
    "             toDF('DistritName','AvgNumberOfStudents')#.\n",
    "\n",
    "numStudents.toPandas().plot(kind='hist')"
   ]
  },
  {
   "cell_type": "code",
   "execution_count": 15,
   "metadata": {},
   "outputs": [
    {
     "name": "stdout",
     "output_type": "stream",
     "text": [
      "+--------------------+-------------------+\n",
      "|         DistritName|AvgNumberOfStudents|\n",
      "+--------------------+-------------------+\n",
      "|Tahoma School Dis...|  987.2222222222222|\n",
      "|Mary M Knight Sch...|              836.5|\n",
      "|Pasco School Dist...|  782.2083333333334|\n",
      "|Issaquah School D...|  776.2962962962963|\n",
      "|Sunnyside School ...|  761.6666666666666|\n",
      "|Mercer Island Sch...|  753.6666666666666|\n",
      "|Auburn School Dis...|  733.7916666666666|\n",
      "|University Place ...|            728.375|\n",
      "|Lake Stevens Scho...|              715.0|\n",
      "|Richland School D...|             709.95|\n",
      "|Bellevue School D...|  701.4516129032259|\n",
      "|Everett School Di...|  698.3333333333334|\n",
      "|Mukilteo School D...|  696.1304347826087|\n",
      "|North Thurston Pu...|  691.9090909090909|\n",
      "|Evergreen School ...|  680.5675675675676|\n",
      "|Sumner School Dis...|  673.3333333333334|\n",
      "|Hockinson School ...|  663.6666666666666|\n",
      "|Northshore School...|  654.0833333333334|\n",
      "|Bethel School Dis...|  652.3870967741935|\n",
      "|Griffin School Di...|              652.0|\n",
      "+--------------------+-------------------+\n",
      "only showing top 20 rows\n",
      "\n"
     ]
    }
   ],
   "source": [
    "#get a list of school district with larger avg. student body\n",
    "numStudents.sort('AvgNumberOfStudents',ascending=False).show()"
   ]
  },
  {
   "cell_type": "code",
   "execution_count": 16,
   "metadata": {},
   "outputs": [],
   "source": [
    "#########first part: Seattle School District ##############################\n",
    "df.registerTempTable('df_table')\n",
    "\n",
    "# select only Seattle school district data (DistrictCode 17001)\n",
    "seattle_enrolment_table = spark.sql( \"SELECT * FROM df_table WHERE DistrictCode == 17001\" )\n",
    "seattle_enrolment_table.toPandas().to_csv('seattle_enrolment.csv',index=False)"
   ]
  },
  {
   "cell_type": "code",
   "execution_count": null,
   "metadata": {},
   "outputs": [],
   "source": [
    "### process the rest of the data (assessment, discipline, graduation, classsize, teacher, etc.)\n",
    "dataDict = {'assessment':\"Report_Card_Assessment_Data_from_2014-15_to_Current_Year.csv\",\n",
    "            'discipline':'Report_Card_Discipline_for_2014-15_to_Current_Year.csv',\n",
    "            'graduation': 'Report_Card_Graduation_2014-15_to_Most_Recent_Year.csv',\n",
    "            'growth':'Report_Card_Growth_from_2014-15_to_Current_Year.csv',\n",
    "            'sqss':'Report_Card_SQSS_from_2014-15_to_Current_Year.csv',\n",
    "            'classsize':'E9_Avg_Class_Size.csv', 'teacherqual':'E11_Teacher_Qualifications.csv',\n",
    "            'teacherexp':'E4_Summary_Years_Exp.csv'}\n",
    "\n",
    "for aspect in dataDict.keys():\n",
    "    inFileName = dataDict[aspect]\n",
    "    df = spark.read.format(\"csv\").option(\"inferSchema\",True).option(\"header\",True).load(inFileName)\n",
    "    outFileName = 'seattle_'+aspect+'.csv'\n",
    "    df.filter(col(\"DistrictCode\")==17001).toPandas().to_csv(outFileName,index=False)\n"
   ]
  }
 ],
 "metadata": {
  "kernelspec": {
   "display_name": "Python 3",
   "language": "python",
   "name": "python3"
  },
  "language_info": {
   "codemirror_mode": {
    "name": "ipython",
    "version": 3
   },
   "file_extension": ".py",
   "mimetype": "text/x-python",
   "name": "python",
   "nbconvert_exporter": "python",
   "pygments_lexer": "ipython3",
   "version": "3.7.4"
  }
 },
 "nbformat": 4,
 "nbformat_minor": 2
}
